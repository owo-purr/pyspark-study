{
 "cells": [
  {
   "cell_type": "code",
   "execution_count": 5,
   "id": "59baefa4-86fc-4343-ac88-e7ae0919b28f",
   "metadata": {},
   "outputs": [],
   "source": [
    "from pyspark.sql import(\n",
    "    SparkSession,\n",
    "    functions as f,\n",
    "    types as t\n",
    ")"
   ]
  },
  {
   "cell_type": "code",
   "execution_count": 4,
   "id": "f9556308-1a7b-4cc9-8713-ab728555a2d8",
   "metadata": {},
   "outputs": [],
   "source": [
    "spark = SparkSession.builder.appName(\"df_total\").getOrCreate()"
   ]
  },
  {
   "cell_type": "code",
   "execution_count": 6,
   "id": "4e65cf6c-5ec6-4b2e-a969-1c358f8714d7",
   "metadata": {},
   "outputs": [],
   "source": [
    "table_schema = t.StructType([\n",
    "    t.StructField(\"customer_name\", t.StringType(), True),\n",
    "    t.StructField(\"product_id\", t.IntegerType(), True),\n",
    "    t.StructField(\"price\", t.IntegerType(), True)])"
   ]
  },
  {
   "cell_type": "code",
   "execution_count": 7,
   "id": "ff09588e-e856-4f44-8ff9-43d7cd59a9e3",
   "metadata": {},
   "outputs": [],
   "source": [
    "csv_file_path = \"file:///home/jovyan/work/sample/product.csv\""
   ]
  },
  {
   "cell_type": "code",
   "execution_count": 8,
   "id": "dfabf718-bd5a-40d5-b648-d680c5891a4d",
   "metadata": {},
   "outputs": [],
   "source": [
    "df = spark.read.schema(table_schema).csv(csv_file_path)"
   ]
  },
  {
   "cell_type": "code",
   "execution_count": 9,
   "id": "01822532-a075-40eb-9de9-0ba1896b022e",
   "metadata": {},
   "outputs": [
    {
     "name": "stdout",
     "output_type": "stream",
     "text": [
      "+--------------------+----------+-----+\n",
      "|       customer_name|product_id|price|\n",
      "+--------------------+----------+-----+\n",
      "|      Whitney Duncan|      2265|  899|\n",
      "|       Ebonie Hudson|      2509|  762|\n",
      "|        Luise Warren|      1995|  657|\n",
      "|        Kenton Floyd|      2271|  829|\n",
      "|       Kasie Douglas|      2507|  254|\n",
      "|          Elden Ward|      1486|  369|\n",
      "|      Hyacinth Kelly|      1355|  660|\n",
      "|   Alishia Stevenson|      3173|  368|\n",
      "|      Amado Castillo|      1465|  242|\n",
      "|       Daniell Mills|      3043|   44|\n",
      "|          King Price|      1579|  607|\n",
      "|       Luise Chapman|      2149|  705|\n",
      "|        Hobert Grant|      2858|  777|\n",
      "|       Michal Steele|      1500|  519|\n",
      "|       Elenore Watts|      2123|  670|\n",
      "|Cristobal Montgomery|      1378|  630|\n",
      "|     Towanda Stevens|      3122|  358|\n",
      "|     Hildred Sanders|      3589|  193|\n",
      "|        Cordie Terry|      3967|   49|\n",
      "|       Eugene Farmer|      1966|  529|\n",
      "+--------------------+----------+-----+\n",
      "only showing top 20 rows\n",
      "\n"
     ]
    }
   ],
   "source": [
    "df.show()"
   ]
  },
  {
   "cell_type": "code",
   "execution_count": 13,
   "id": "e4c7db48-b181-40dd-b8ca-7f5b436ef974",
   "metadata": {},
   "outputs": [],
   "source": [
    "customer_spend = df.groupBy(\"customer_name\")\\\n",
    "    .agg(\n",
    "        f.round(\n",
    "            f.sum(\"price\"),\n",
    "            2\n",
    "        ).alias(\"cost\")\n",
    "    )"
   ]
  },
  {
   "cell_type": "code",
   "execution_count": 15,
   "id": "7a22bb51-b17e-42a0-ba66-9728eb727926",
   "metadata": {},
   "outputs": [
    {
     "name": "stdout",
     "output_type": "stream",
     "text": [
      "+-----------------+----+\n",
      "|    customer_name|cost|\n",
      "+-----------------+----+\n",
      "|     Damion Wolfe|1397|\n",
      "| Benedict Frazier| 998|\n",
      "|  Giuseppe Miller| 997|\n",
      "|    Garret Martin| 997|\n",
      "|Erminia Robertson| 997|\n",
      "|     Milan Gibson| 996|\n",
      "|     Rudy Wheeler| 994|\n",
      "|   Kathey Baldwin| 994|\n",
      "|   Williemae Bell| 992|\n",
      "|Gearldine Aguilar| 988|\n",
      "|      Jewel Parks| 987|\n",
      "|     Hyman Castro| 985|\n",
      "|    Noriko Medina| 984|\n",
      "|     Garfield Day| 982|\n",
      "|      Dacia Adams| 981|\n",
      "|     Taisha Henry| 980|\n",
      "|    Branda Valdez| 978|\n",
      "|     Fumiko Weber| 976|\n",
      "|Geraldo Alexander| 975|\n",
      "|      Walker Pope| 975|\n",
      "+-----------------+----+\n",
      "only showing top 20 rows\n",
      "\n"
     ]
    }
   ],
   "source": [
    "customer_spend.orderBy(f.col(\"cost\").desc()).show()"
   ]
  }
 ],
 "metadata": {
  "kernelspec": {
   "display_name": "Python 3 (ipykernel)",
   "language": "python",
   "name": "python3"
  },
  "language_info": {
   "codemirror_mode": {
    "name": "ipython",
    "version": 3
   },
   "file_extension": ".py",
   "mimetype": "text/x-python",
   "name": "python",
   "nbconvert_exporter": "python",
   "pygments_lexer": "ipython3",
   "version": "3.10.11"
  }
 },
 "nbformat": 4,
 "nbformat_minor": 5
}
