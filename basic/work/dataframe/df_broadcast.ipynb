{
 "cells": [
  {
   "cell_type": "code",
   "execution_count": 1,
   "id": "6cf52fd9-6ba8-40be-ae07-adf6388ff3cb",
   "metadata": {},
   "outputs": [],
   "source": [
    "from pyspark.sql import (\n",
    "    functions as f,\n",
    "    types as t,\n",
    "    SparkSession\n",
    ")"
   ]
  },
  {
   "cell_type": "code",
   "execution_count": 2,
   "id": "8d8da1de-ffce-4c1d-9a05-372bb34e8217",
   "metadata": {},
   "outputs": [],
   "source": [
    "spark = SparkSession.builder.appName(\"df_most_interviewed\").getOrCreate()"
   ]
  },
  {
   "cell_type": "code",
   "execution_count": 3,
   "id": "36912ccd-b30e-41b7-b724-ad8a2ed2d4c2",
   "metadata": {},
   "outputs": [],
   "source": [
    "table_schema = t.StructType([\n",
    "    t.StructField(\"interviewer_id\", t.StringType(), False),\n",
    "    t.StructField(\"occupation_id\", t.StringType(), False),\n",
    "    t.StructField(\"rating\", t.IntegerType(), False)\n",
    "])"
   ]
  },
  {
   "cell_type": "code",
   "execution_count": 5,
   "id": "db46c053-9043-4b99-b334-fe2e3bd5f1a4",
   "metadata": {},
   "outputs": [],
   "source": [
    "csv_file_path = \"file:///home/jovyan/work/sample/like.csv\""
   ]
  },
  {
   "cell_type": "code",
   "execution_count": 6,
   "id": "41f9b71b-2e4a-4d41-b950-afe584b9e9f6",
   "metadata": {},
   "outputs": [],
   "source": [
    "df = spark.read.schema(table_schema).csv(csv_file_path)"
   ]
  },
  {
   "cell_type": "code",
   "execution_count": 7,
   "id": "5fe2a372-216c-4c4c-a809-db886bfed51d",
   "metadata": {},
   "outputs": [
    {
     "name": "stdout",
     "output_type": "stream",
     "text": [
      "+--------------+-------------+------+\n",
      "|interviewer_id|occupation_id|rating|\n",
      "+--------------+-------------+------+\n",
      "|         11657|         1100|     8|\n",
      "|         13727|         2030|     2|\n",
      "|         59892|         3801|     1|\n",
      "|          6538|         3021|     6|\n",
      "|         95811|         2030|     9|\n",
      "|         54500|         1100|    10|\n",
      "|         69741|         2030|     3|\n",
      "|         51166|         2030|    10|\n",
      "|         70009|         9382|     5|\n",
      "|         63152|         2030|     6|\n",
      "|         70758|         1100|     2|\n",
      "|         35580|         2030|     5|\n",
      "|         63199|         1100|    10|\n",
      "|         33078|         2030|     3|\n",
      "|         97480|         9382|     2|\n",
      "|         47223|         1100|     8|\n",
      "|         80308|         3021|     8|\n",
      "|         26691|         1100|     3|\n",
      "|         17194|         3021|     3|\n",
      "|         96584|         2030|     4|\n",
      "+--------------+-------------+------+\n",
      "only showing top 20 rows\n",
      "\n"
     ]
    }
   ],
   "source": [
    "df.show()"
   ]
  },
  {
   "cell_type": "code",
   "execution_count": 8,
   "id": "c89cae24-3d96-4808-8492-71be1e72d92f",
   "metadata": {},
   "outputs": [],
   "source": [
    "interviewer_count = df.groupBy(\"occupation_id\").count().orderBy(f.desc(\"count\"))"
   ]
  },
  {
   "cell_type": "code",
   "execution_count": 9,
   "id": "8dd9bd44-1ea6-4666-a120-7a03d2e15e3f",
   "metadata": {},
   "outputs": [
    {
     "name": "stdout",
     "output_type": "stream",
     "text": [
      "+-------------+-----+\n",
      "|occupation_id|count|\n",
      "+-------------+-----+\n",
      "|         1100|  217|\n",
      "|         3801|  203|\n",
      "|         2030|  200|\n",
      "|         3021|  191|\n",
      "|         9382|  189|\n",
      "+-------------+-----+\n",
      "\n"
     ]
    }
   ],
   "source": [
    "interviewer_count.show()"
   ]
  },
  {
   "cell_type": "code",
   "execution_count": 10,
   "id": "828c4ed5-0bc1-482f-a697-6c1ddd1b351a",
   "metadata": {},
   "outputs": [
    {
     "data": {
      "text/plain": [
       "[Row(occupation_id='1100', cnt=217),\n",
       " Row(occupation_id='3801', cnt=203),\n",
       " Row(occupation_id='2030', cnt=200),\n",
       " Row(occupation_id='3021', cnt=191),\n",
       " Row(occupation_id='9382', cnt=189)]"
      ]
     },
     "execution_count": 10,
     "metadata": {},
     "output_type": "execute_result"
    }
   ],
   "source": [
    "interviewer_count.select(\"occupation_id\", f.col(\"count\").alias(\"cnt\")).collect()"
   ]
  },
  {
   "cell_type": "code",
   "execution_count": 11,
   "id": "21548d5f-c66d-4b42-89fe-9527ce241da3",
   "metadata": {},
   "outputs": [
    {
     "name": "stdout",
     "output_type": "stream",
     "text": [
      "1100: 217\n",
      "3801: 203\n",
      "2030: 200\n",
      "3021: 191\n",
      "9382: 189\n"
     ]
    }
   ],
   "source": [
    "for d in interviewer_count.select(\"occupation_id\", f.col(\"count\").alias(\"cnt\")).collect():\n",
    "    print(f\"{d.occupation_id}: {d.cnt}\")"
   ]
  },
  {
   "cell_type": "code",
   "execution_count": 12,
   "id": "da7d168b-f7bf-47ef-97b1-b7f5878a3de3",
   "metadata": {},
   "outputs": [],
   "source": [
    "meta = {\n",
    "    \"1100\": \"engineer\",\n",
    "    \"2030\": \"developer\",\n",
    "    \"3801\": \"painter\",\n",
    "    \"3021\": \"chemistry teacher\",\n",
    "    \"9382\": \"priest\"\n",
    "}"
   ]
  },
  {
   "cell_type": "code",
   "execution_count": 15,
   "id": "7c31d4df-442d-4925-85c7-385850c6ac83",
   "metadata": {},
   "outputs": [],
   "source": [
    "occupation_dict = spark.sparkContext.broadcast(meta)"
   ]
  },
  {
   "cell_type": "code",
   "execution_count": 16,
   "id": "cd0aa6a9-b1a0-4e40-910d-53949cdae042",
   "metadata": {},
   "outputs": [
    {
     "data": {
      "text/plain": [
       "{'1100': 'engineer',\n",
       " '2030': 'developer',\n",
       " '3801': 'painter',\n",
       " '3021': 'chemistry teacher',\n",
       " '9382': 'priest'}"
      ]
     },
     "execution_count": 16,
     "metadata": {},
     "output_type": "execute_result"
    }
   ],
   "source": [
    "occupation_dict.value"
   ]
  },
  {
   "cell_type": "code",
   "execution_count": 17,
   "id": "1bdb2f3f-14cc-4eb1-89de-112f4246c5d4",
   "metadata": {},
   "outputs": [],
   "source": [
    "def get_occupation_name(occupation_id: str)->str:\n",
    "    return occupation_dict.value[occupation_id]"
   ]
  },
  {
   "cell_type": "code",
   "execution_count": 18,
   "id": "9e7a8f9f-138e-4033-af9b-3f9ee0b57cad",
   "metadata": {},
   "outputs": [],
   "source": [
    "occupation_lookup_udf = f.udf(get_occupation_name)"
   ]
  },
  {
   "cell_type": "code",
   "execution_count": 19,
   "id": "03291112-16a6-414b-9986-ea70a290740b",
   "metadata": {},
   "outputs": [
    {
     "name": "stdout",
     "output_type": "stream",
     "text": [
      "+-------------+-----+-----------------+\n",
      "|occupation_id|count|  occupation_name|\n",
      "+-------------+-----+-----------------+\n",
      "|         1100|  217|         engineer|\n",
      "|         3801|  203|          painter|\n",
      "|         2030|  200|        developer|\n",
      "|         3021|  191|chemistry teacher|\n",
      "|         9382|  189|           priest|\n",
      "+-------------+-----+-----------------+\n",
      "\n"
     ]
    }
   ],
   "source": [
    "interviewer_count.withColumn(\"occupation_name\", \\\n",
    "    occupation_lookup_udf(f.col(\"occupation_id\"))).show()"
   ]
  }
 ],
 "metadata": {
  "kernelspec": {
   "display_name": "Python 3 (ipykernel)",
   "language": "python",
   "name": "python3"
  },
  "language_info": {
   "codemirror_mode": {
    "name": "ipython",
    "version": 3
   },
   "file_extension": ".py",
   "mimetype": "text/x-python",
   "name": "python",
   "nbconvert_exporter": "python",
   "pygments_lexer": "ipython3",
   "version": "3.10.11"
  }
 },
 "nbformat": 4,
 "nbformat_minor": 5
}
