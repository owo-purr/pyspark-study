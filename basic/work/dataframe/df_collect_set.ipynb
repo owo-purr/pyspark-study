{
 "cells": [
  {
   "cell_type": "code",
   "execution_count": 1,
   "id": "5936c0fb-1d9a-4baf-b59d-660113efc60b",
   "metadata": {},
   "outputs": [],
   "source": [
    "from pyspark.sql import(\n",
    "    SparkSession,\n",
    "    functions as f,\n",
    "    types as t\n",
    ")"
   ]
  },
  {
   "cell_type": "code",
   "execution_count": 2,
   "id": "4b74a600-4fb8-4fff-9a28-4f15f9b08770",
   "metadata": {},
   "outputs": [],
   "source": [
    "spark = SparkSession.builder.appName(\"df_most_popular\").getOrCreate()"
   ]
  },
  {
   "cell_type": "code",
   "execution_count": 3,
   "id": "b8b7c4ed-0e4b-4c5c-a691-a1b0ff3e96a8",
   "metadata": {},
   "outputs": [],
   "source": [
    "csv_file_path = \"file:///home/jovyan/work/sample/hero-network.csv\""
   ]
  },
  {
   "cell_type": "code",
   "execution_count": 4,
   "id": "a90784c8-01c6-4cd2-9854-240c7509bba6",
   "metadata": {},
   "outputs": [],
   "source": [
    "df = spark.read\\\n",
    "        .option(\"header\", \"true\")\\\n",
    "        .option(\"inferSchema\", \"true\").csv(csv_file_path)"
   ]
  },
  {
   "cell_type": "code",
   "execution_count": 5,
   "id": "a2e18e95-dff5-464b-b072-68983cd936b3",
   "metadata": {},
   "outputs": [
    {
     "name": "stdout",
     "output_type": "stream",
     "text": [
      "+--------------------+--------------------+\n",
      "|               hero1|               hero2|\n",
      "+--------------------+--------------------+\n",
      "|       LITTLE, ABNER|      PRINCESS ZANDA|\n",
      "|       LITTLE, ABNER|BLACK PANTHER/T'CHAL|\n",
      "|BLACK PANTHER/T'CHAL|      PRINCESS ZANDA|\n",
      "|       LITTLE, ABNER|      PRINCESS ZANDA|\n",
      "|       LITTLE, ABNER|BLACK PANTHER/T'CHAL|\n",
      "|BLACK PANTHER/T'CHAL|      PRINCESS ZANDA|\n",
      "|STEELE, SIMON/WOLFGA|    FORTUNE, DOMINIC|\n",
      "|STEELE, SIMON/WOLFGA| ERWIN, CLYTEMNESTRA|\n",
      "|STEELE, SIMON/WOLFGA|IRON MAN/TONY STARK |\n",
      "|STEELE, SIMON/WOLFGA|IRON MAN IV/JAMES R.|\n",
      "|STEELE, SIMON/WOLFGA|RAVEN, SABBATH II/EL|\n",
      "|RAVEN, SABBATH II/EL|    FORTUNE, DOMINIC|\n",
      "|RAVEN, SABBATH II/EL| ERWIN, CLYTEMNESTRA|\n",
      "|RAVEN, SABBATH II/EL|IRON MAN/TONY STARK |\n",
      "|RAVEN, SABBATH II/EL|IRON MAN IV/JAMES R.|\n",
      "|IRON MAN IV/JAMES R.|    FORTUNE, DOMINIC|\n",
      "|IRON MAN IV/JAMES R.| ERWIN, CLYTEMNESTRA|\n",
      "|IRON MAN IV/JAMES R.|IRON MAN/TONY STARK |\n",
      "|IRON MAN/TONY STARK |    FORTUNE, DOMINIC|\n",
      "|IRON MAN/TONY STARK | ERWIN, CLYTEMNESTRA|\n",
      "+--------------------+--------------------+\n",
      "only showing top 20 rows\n",
      "\n"
     ]
    }
   ],
   "source": [
    "df.show()"
   ]
  },
  {
   "cell_type": "code",
   "execution_count": 18,
   "id": "6a761216-7ff2-4a51-b8c1-5ec76fe22a39",
   "metadata": {},
   "outputs": [
    {
     "data": {
      "text/plain": [
       "574467"
      ]
     },
     "execution_count": 18,
     "metadata": {},
     "output_type": "execute_result"
    }
   ],
   "source": [
    "df.count()"
   ]
  },
  {
   "cell_type": "code",
   "execution_count": 8,
   "id": "99ce90fd-025c-4206-b5c0-2b7a3d25c4ac",
   "metadata": {},
   "outputs": [
    {
     "name": "stdout",
     "output_type": "stream",
     "text": [
      "+--------------------+--------------------+\n",
      "|               hero1|          connection|\n",
      "+--------------------+--------------------+\n",
      "|             ABCISSA|[ELSIE DEE, FURY,...|\n",
      "|ABSORBING MAN | MUTA|[DRAX | MUTANT X-...|\n",
      "|ABSORBING MAN/CARL C|[SOMMERS, APRIL, ...|\n",
      "|    ADAMSON, REBECCA|[KABALLA, GOLEM I...|\n",
      "|   ADVENT/KYLE GROBE|[JUSTICE II/VANCE...|\n",
      "|      AGAMEMNON III/|[ASTER, LUCIAN, H...|\n",
      "|            AGAMOTTO|[MUNIPOOR, DORMAM...|\n",
      "|             AGGAMON|[DR. STRANGE/STEP...|\n",
      "|              AGINAR|[SIF, REJECT/RAN-...|\n",
      "|                AGON|[MARISTA, BLACK B...|\n",
      "|               AINET|[STORM/ORORO MUNR...|\n",
      "|    AKUTAGAWA, OSAMU|[HUMAN TORCH/JOHN...|\n",
      "|ALDEN, PROF. MEREDIT|[CABE, BETHANY, S...|\n",
      "|             ALISTRO|[ENCHANTRESS/AMOR...|\n",
      "|       ALVAREZ, PAUL|[ATOR, GENERAL, Z...|\n",
      "|   AMERICAN SAMURAI/|[PAGE, KAREN, DAR...|\n",
      "|             AMPERE/|[QUICKSILVER/PIET...|\n",
      "|           ANCESTOR/|[RECORDER II, FOU...|\n",
      "|ANCIENT ONE/BARON MO|[BLOODSTORM | MUT...|\n",
      "|    ANDERSSEN, TANYA|[KA-ZAR/KEVIN PLU...|\n",
      "+--------------------+--------------------+\n",
      "only showing top 20 rows\n",
      "\n"
     ]
    }
   ],
   "source": [
    "df.groupBy(\"hero1\")\\\n",
    "    .agg(f.collect_set(\"hero2\").alias(\"connection\")).show()"
   ]
  },
  {
   "cell_type": "code",
   "execution_count": 17,
   "id": "e054db98-8c70-4eec-b47a-4d08a52d99bf",
   "metadata": {},
   "outputs": [
    {
     "data": {
      "text/plain": [
       "6211"
      ]
     },
     "execution_count": 17,
     "metadata": {},
     "output_type": "execute_result"
    }
   ],
   "source": [
    "df.groupBy(\"hero1\")\\\n",
    "    .agg(f.collect_set(\"hero2\").alias(\"connection\")).count()"
   ]
  },
  {
   "cell_type": "code",
   "execution_count": 10,
   "id": "a652a1dc-f6b4-4fe1-b724-b45aaf1aeaf8",
   "metadata": {},
   "outputs": [],
   "source": [
    "data = df.groupBy(\"hero1\")\\\n",
    "    .agg(f.collect_set(\"hero2\").alias(\"connection\"))\\\n",
    "    .withColumnRenamed(\"hero1\",\"hero\")"
   ]
  },
  {
   "cell_type": "code",
   "execution_count": 11,
   "id": "ab875ef0-75c7-4714-bb24-2d563060daff",
   "metadata": {
    "scrolled": true
   },
   "outputs": [
    {
     "name": "stdout",
     "output_type": "stream",
     "text": [
      "+--------------------+--------------------+\n",
      "|                hero|          connection|\n",
      "+--------------------+--------------------+\n",
      "|             ABCISSA|[ELSIE DEE, FURY,...|\n",
      "|ABSORBING MAN | MUTA|[DRAX | MUTANT X-...|\n",
      "|ABSORBING MAN/CARL C|[SOMMERS, APRIL, ...|\n",
      "|    ADAMSON, REBECCA|[KABALLA, GOLEM I...|\n",
      "|   ADVENT/KYLE GROBE|[JUSTICE II/VANCE...|\n",
      "|      AGAMEMNON III/|[ASTER, LUCIAN, H...|\n",
      "|            AGAMOTTO|[MUNIPOOR, DORMAM...|\n",
      "|             AGGAMON|[DR. STRANGE/STEP...|\n",
      "|              AGINAR|[SIF, REJECT/RAN-...|\n",
      "|                AGON|[MARISTA, BLACK B...|\n",
      "|               AINET|[STORM/ORORO MUNR...|\n",
      "|    AKUTAGAWA, OSAMU|[HUMAN TORCH/JOHN...|\n",
      "|ALDEN, PROF. MEREDIT|[CABE, BETHANY, S...|\n",
      "|             ALISTRO|[ENCHANTRESS/AMOR...|\n",
      "|       ALVAREZ, PAUL|[ATOR, GENERAL, Z...|\n",
      "|   AMERICAN SAMURAI/|[PAGE, KAREN, DAR...|\n",
      "|             AMPERE/|[QUICKSILVER/PIET...|\n",
      "|           ANCESTOR/|[RECORDER II, FOU...|\n",
      "|ANCIENT ONE/BARON MO|[BLOODSTORM | MUT...|\n",
      "|    ANDERSSEN, TANYA|[KA-ZAR/KEVIN PLU...|\n",
      "+--------------------+--------------------+\n",
      "only showing top 20 rows\n",
      "\n"
     ]
    }
   ],
   "source": [
    "data.show()"
   ]
  },
  {
   "cell_type": "code",
   "execution_count": 26,
   "id": "fb6f10eb-5660-4306-a287-653c797fb946",
   "metadata": {},
   "outputs": [
    {
     "name": "stdout",
     "output_type": "stream",
     "text": [
      "+--------------------+--------------------+\n",
      "|                hero|          connection|\n",
      "+--------------------+--------------------+\n",
      "|             ABCISSA|ELSIE DEE,FURY, C...|\n",
      "|ABSORBING MAN | MUTA|DRAX | MUTANT X-V...|\n",
      "|ABSORBING MAN/CARL C|SOMMERS, APRIL,HE...|\n",
      "|    ADAMSON, REBECCA|KABALLA,GOLEM III...|\n",
      "|   ADVENT/KYLE GROBE|JUSTICE II/VANCE ...|\n",
      "|      AGAMEMNON III/|ASTER, LUCIAN,HOG...|\n",
      "|            AGAMOTTO|MUNIPOOR,DORMAMMU...|\n",
      "|             AGGAMON|DR. STRANGE/STEPHEN |\n",
      "|              AGINAR|SIF,REJECT/RAN-SA...|\n",
      "|                AGON|MARISTA,BLACK BOL...|\n",
      "|               AINET|STORM/ORORO MUNRO...|\n",
      "|    AKUTAGAWA, OSAMU|HUMAN TORCH/JOHNN...|\n",
      "|ALDEN, PROF. MEREDIT|CABE, BETHANY,STO...|\n",
      "|             ALISTRO|ENCHANTRESS/AMORA...|\n",
      "|       ALVAREZ, PAUL|ATOR, GENERAL,ZAR...|\n",
      "|   AMERICAN SAMURAI/|PAGE, KAREN,DARED...|\n",
      "|             AMPERE/|QUICKSILVER/PIETR...|\n",
      "|           ANCESTOR/|RECORDER II,FOUND...|\n",
      "|ANCIENT ONE/BARON MO|BLOODSTORM | MUTA...|\n",
      "|    ANDERSSEN, TANYA|KA-ZAR/KEVIN PLUN...|\n",
      "+--------------------+--------------------+\n",
      "only showing top 20 rows\n",
      "\n"
     ]
    }
   ],
   "source": [
    "data.withColumn(\"connection\", f.concat_ws(\",\",f.col(\"connection\"))).show()"
   ]
  },
  {
   "cell_type": "code",
   "execution_count": 27,
   "id": "e316d62c-dd45-4188-b0be-3fff8e1cafb7",
   "metadata": {},
   "outputs": [],
   "source": [
    "data = data.withColumn(\"connection\", f.concat_ws(\",\",f.col(\"connection\")))"
   ]
  },
  {
   "cell_type": "code",
   "execution_count": 33,
   "id": "888af237-85ae-46e0-be83-395e86461212",
   "metadata": {},
   "outputs": [],
   "source": [
    "data.write.option(\"header\", True).csv(\"output_before\")"
   ]
  },
  {
   "cell_type": "code",
   "execution_count": 35,
   "id": "086545e3-f2db-4d7f-83c4-8a18be49bed7",
   "metadata": {},
   "outputs": [],
   "source": [
    "data.coalesce(1).write.option(\"header\", True).csv(\"output\")"
   ]
  },
  {
   "cell_type": "code",
   "execution_count": 37,
   "id": "06df7513-1771-4508-ac95-e07559373e39",
   "metadata": {},
   "outputs": [],
   "source": [
    "csv_file_path = \"file:///home/jovyan/work/dataframe/output\"\n",
    "df = spark.read\\\n",
    "            .option(\"header\", \"true\")\\\n",
    "            .option(\"inferSchema\", \"true\")\\\n",
    "            .csv(csv_file_path)"
   ]
  },
  {
   "cell_type": "code",
   "execution_count": 38,
   "id": "926b93c8-906c-44e2-82ca-9012f501bc97",
   "metadata": {},
   "outputs": [
    {
     "name": "stdout",
     "output_type": "stream",
     "text": [
      "+--------------------+--------------------+\n",
      "|                hero|          connection|\n",
      "+--------------------+--------------------+\n",
      "|             ABCISSA|ELSIE DEE,FURY, C...|\n",
      "|ABSORBING MAN | MUTA|DRAX | MUTANT X-V...|\n",
      "|ABSORBING MAN/CARL C|SOMMERS, APRIL,HE...|\n",
      "|    ADAMSON, REBECCA|KABALLA,GOLEM III...|\n",
      "|   ADVENT/KYLE GROBE|JUSTICE II/VANCE ...|\n",
      "|      AGAMEMNON III/|ASTER, LUCIAN,HOG...|\n",
      "|            AGAMOTTO|MUNIPOOR,DORMAMMU...|\n",
      "|             AGGAMON| DR. STRANGE/STEPHEN|\n",
      "|              AGINAR|SIF,REJECT/RAN-SA...|\n",
      "|                AGON|MARISTA,BLACK BOL...|\n",
      "|               AINET|STORM/ORORO MUNRO...|\n",
      "|    AKUTAGAWA, OSAMU|HUMAN TORCH/JOHNN...|\n",
      "|ALDEN, PROF. MEREDIT|CABE, BETHANY,STO...|\n",
      "|             ALISTRO|ENCHANTRESS/AMORA...|\n",
      "|       ALVAREZ, PAUL|ATOR, GENERAL,ZAR...|\n",
      "|   AMERICAN SAMURAI/|PAGE, KAREN,DARED...|\n",
      "|             AMPERE/|QUICKSILVER/PIETR...|\n",
      "|           ANCESTOR/|RECORDER II,FOUND...|\n",
      "|ANCIENT ONE/BARON MO|BLOODSTORM | MUTA...|\n",
      "|    ANDERSSEN, TANYA|KA-ZAR/KEVIN PLUN...|\n",
      "+--------------------+--------------------+\n",
      "only showing top 20 rows\n",
      "\n"
     ]
    }
   ],
   "source": [
    "df.show()"
   ]
  },
  {
   "cell_type": "code",
   "execution_count": 41,
   "id": "616606de-0bfb-4b6b-bee2-ea6957e0926c",
   "metadata": {},
   "outputs": [
    {
     "name": "stdout",
     "output_type": "stream",
     "text": [
      "+--------------------+--------------------+---------------+\n",
      "|                hero|          connection|connection_size|\n",
      "+--------------------+--------------------+---------------+\n",
      "|             ABCISSA|ELSIE DEE,FURY, C...|             15|\n",
      "|ABSORBING MAN | MUTA|DRAX | MUTANT X-V...|             23|\n",
      "|ABSORBING MAN/CARL C|SOMMERS, APRIL,HE...|            220|\n",
      "|    ADAMSON, REBECCA|KABALLA,GOLEM III...|              4|\n",
      "|   ADVENT/KYLE GROBE|JUSTICE II/VANCE ...|             17|\n",
      "|      AGAMEMNON III/|ASTER, LUCIAN,HOG...|             56|\n",
      "|            AGAMOTTO|MUNIPOOR,DORMAMMU...|             28|\n",
      "|             AGGAMON| DR. STRANGE/STEPHEN|              1|\n",
      "|              AGINAR|SIF,REJECT/RAN-SA...|             37|\n",
      "|                AGON|MARISTA,BLACK BOL...|              7|\n",
      "|               AINET|STORM/ORORO MUNRO...|              9|\n",
      "|    AKUTAGAWA, OSAMU|HUMAN TORCH/JOHNN...|              4|\n",
      "|ALDEN, PROF. MEREDIT|CABE, BETHANY,STO...|             38|\n",
      "|             ALISTRO|ENCHANTRESS/AMORA...|             16|\n",
      "|       ALVAREZ, PAUL|ATOR, GENERAL,ZAR...|             39|\n",
      "|   AMERICAN SAMURAI/|PAGE, KAREN,DARED...|              8|\n",
      "|             AMPERE/|QUICKSILVER/PIETR...|              2|\n",
      "|           ANCESTOR/|RECORDER II,FOUND...|             22|\n",
      "|ANCIENT ONE/BARON MO|BLOODSTORM | MUTA...|             25|\n",
      "|    ANDERSSEN, TANYA|KA-ZAR/KEVIN PLUN...|             46|\n",
      "+--------------------+--------------------+---------------+\n",
      "only showing top 20 rows\n",
      "\n"
     ]
    }
   ],
   "source": [
    "df.withColumn(\"connection_size\",\\\n",
    "    f.size(\\\n",
    "    f.split(f.col(\"connection\"),\",\")))\\\n",
    "    .show()"
   ]
  },
  {
   "cell_type": "code",
   "execution_count": 43,
   "id": "86bb75c0-1cbd-4188-8896-efc6b28a6a1c",
   "metadata": {},
   "outputs": [
    {
     "name": "stdout",
     "output_type": "stream",
     "text": [
      "+--------------------+--------------------+---------------+\n",
      "|                hero|          connection|connection_size|\n",
      "+--------------------+--------------------+---------------+\n",
      "|     CAPTAIN AMERICA|URICH, DORIS,ARMA...|           1795|\n",
      "|SPIDER-MAN/PETER PAR|MAGMA II/JONATHAN...|           1737|\n",
      "| IRON MAN/TONY STARK|RED SHIFT,SABRETO...|           1443|\n",
      "|     WOLVERINE/LOGAN|SABRETOOTH/VICTOR...|           1278|\n",
      "|THING/BENJAMIN J. GR|CHORD, ANDREW,CAT...|           1262|\n",
      "| SCARLET WITCH/WANDA|SABRETOOTH/VICTOR...|           1246|\n",
      "|HUMAN TORCH/JOHNNY S|CAT KING,BUZZ,MAK...|           1202|\n",
      "|MR. FANTASTIC/REED R|ARMADILLO/ANTONIO...|           1200|\n",
      "|THOR/DR. DONALD BLAK|PARKER, MAY | TIM...|           1183|\n",
      "| INVISIBLE WOMAN/SUE|CAPTAIN MARVEL II...|           1143|\n",
      "|BEAST/HENRY &HANK& P|AMERICAN EAGLE II...|           1140|\n",
      "|              VISION|PHOSPHORUS,AMERIC...|           1110|\n",
      "|                HAWK|AMERICAN EAGLE II...|           1086|\n",
      "|CYCLOPS/SCOTT SUMMER|SABRETOOTH/VICTOR...|           1004|\n",
      "|HULK/DR. ROBERT BRUC|SABRETOOTH/VICTOR...|            978|\n",
      "|ANT-MAN/DR. HENRY J.|DEVEREAUX, MICHEL...|            953|\n",
      "|STORM/ORORO MUNROE S|SABRETOOTH/VICTOR...|            952|\n",
      "| DR. STRANGE/STEPHEN|AMERICAN EAGLE II...|            946|\n",
      "|COLOSSUS II/PETER RA|SABRETOOTH/VICTOR...|            944|\n",
      "| PROFESSOR X/CHARLES|SABRETOOTH/VICTOR...|            940|\n",
      "+--------------------+--------------------+---------------+\n",
      "only showing top 20 rows\n",
      "\n"
     ]
    }
   ],
   "source": [
    "df.withColumn(\"connection_size\",\\\n",
    "    f.size(\\\n",
    "    f.split(f.col(\"connection\"),\",\")))\\\n",
    "    .orderBy(f.desc(\"connection_size\"))\\\n",
    "    .show()"
   ]
  },
  {
   "cell_type": "code",
   "execution_count": 44,
   "id": "0855262d-f5bf-4f14-a3a5-44a461979842",
   "metadata": {},
   "outputs": [],
   "source": [
    "most_popular_hero = df.withColumn(\"connection_size\",\\\n",
    "    f.size(\\\n",
    "    f.split(f.col(\"connection\"),\",\")))\\\n",
    "    .orderBy(f.desc(\"connection_size\"))\\\n",
    "    .first()"
   ]
  },
  {
   "cell_type": "code",
   "execution_count": 46,
   "id": "cf12392f-6ccc-4b75-8cb0-729796045bf7",
   "metadata": {},
   "outputs": [
    {
     "data": {
      "text/plain": [
       "'CAPTAIN AMERICA'"
      ]
     },
     "execution_count": 46,
     "metadata": {},
     "output_type": "execute_result"
    }
   ],
   "source": [
    "most_popular_hero.hero"
   ]
  }
 ],
 "metadata": {
  "kernelspec": {
   "display_name": "Python 3 (ipykernel)",
   "language": "python",
   "name": "python3"
  },
  "language_info": {
   "codemirror_mode": {
    "name": "ipython",
    "version": 3
   },
   "file_extension": ".py",
   "mimetype": "text/x-python",
   "name": "python",
   "nbconvert_exporter": "python",
   "pygments_lexer": "ipython3",
   "version": "3.10.11"
  }
 },
 "nbformat": 4,
 "nbformat_minor": 5
}
