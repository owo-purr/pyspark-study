{
 "cells": [
  {
   "cell_type": "code",
   "execution_count": 1,
   "id": "ba9d18ba-1a32-47ac-97a6-884dc7881b98",
   "metadata": {},
   "outputs": [],
   "source": [
    "from pyspark.sql import SparkSession\n",
    "from pyspark.sql.functions import(\n",
    "    avg,\n",
    "    col,\n",
    "    round as rnd\n",
    ")"
   ]
  },
  {
   "cell_type": "code",
   "execution_count": 2,
   "id": "7ea4268e-a759-4a63-a09d-5744ac00acbe",
   "metadata": {},
   "outputs": [],
   "source": [
    "spark = SparkSession.builder.appName(\"sql_import_csv\").getOrCreate()"
   ]
  },
  {
   "cell_type": "code",
   "execution_count": 3,
   "id": "1c9211d0-6591-4ad3-91cc-28a960415147",
   "metadata": {},
   "outputs": [],
   "source": [
    "csv_path = \"file:///home/jovyan/work/sample/age.csv\""
   ]
  },
  {
   "cell_type": "code",
   "execution_count": 4,
   "id": "b8ada697-448d-4a11-970a-56289d705133",
   "metadata": {},
   "outputs": [],
   "source": [
    "data = spark.read.option(\"header\", \"true\")\\\n",
    "            .option(\"inferSchema\",\"true\")\\\n",
    "            .csv(csv_path)"
   ]
  },
  {
   "cell_type": "code",
   "execution_count": 5,
   "id": "e7c35e92-b58b-4f51-a884-7dceea398c42",
   "metadata": {},
   "outputs": [
    {
     "name": "stdout",
     "output_type": "stream",
     "text": [
      "+-----------------+---+--------------------+\n",
      "|             name|age|             country|\n",
      "+-----------------+---+--------------------+\n",
      "|    Neville Hardy| 56|                Niue|\n",
      "|      Dacia Cohen| 74|Falkland Islands ...|\n",
      "|    Kathey Daniel| 10|            Slovenia|\n",
      "|     Mallie Welch| 12|   Equatorial Guinea|\n",
      "|     Katia Bryant| 14|               Ghana|\n",
      "|Laurice Robertson| 53|        Saudi Arabia|\n",
      "|     Minh Barrett| 27|French Southern T...|\n",
      "|   Latashia Perez| 52|             Finland|\n",
      "|      Elvina Ross| 68|         New Zealand|\n",
      "|  Augustus Snyder| 20|             Jamaica|\n",
      "|        Elois Cox| 65|            Paraguay|\n",
      "|    Jolanda Dixon| 14|               Ghana|\n",
      "|      Rutha Young| 10|        Saint Helena|\n",
      "| Waltraud Holland| 10|             Moldova|\n",
      "|   Colton Flowers| 77|Saint Vincent and...|\n",
      "|     Meri Hawkins| 43|             Jamaica|\n",
      "|     Theola Mason| 71|              Gambia|\n",
      "|  Antonia Pearson| 25|             Namibia|\n",
      "|   Delicia Murray| 41|         El Salvador|\n",
      "|    Cicely Harvey| 37|              Belize|\n",
      "+-----------------+---+--------------------+\n",
      "only showing top 20 rows\n",
      "\n"
     ]
    }
   ],
   "source": [
    "data.show()"
   ]
  },
  {
   "cell_type": "code",
   "execution_count": 6,
   "id": "8e7b61ec-5c9f-4330-b7bf-25811ce1201b",
   "metadata": {},
   "outputs": [
    {
     "name": "stdout",
     "output_type": "stream",
     "text": [
      "root\n",
      " |-- name: string (nullable = true)\n",
      " |-- age: integer (nullable = true)\n",
      " |-- country: string (nullable = true)\n",
      "\n"
     ]
    }
   ],
   "source": [
    "data.printSchema()"
   ]
  },
  {
   "cell_type": "code",
   "execution_count": 8,
   "id": "2009c046-9570-4ef8-82b9-927ca71036cf",
   "metadata": {},
   "outputs": [
    {
     "name": "stdout",
     "output_type": "stream",
     "text": [
      "+-----------------+---+\n",
      "|             name|age|\n",
      "+-----------------+---+\n",
      "|    Neville Hardy| 56|\n",
      "|      Dacia Cohen| 74|\n",
      "|    Kathey Daniel| 10|\n",
      "|     Mallie Welch| 12|\n",
      "|     Katia Bryant| 14|\n",
      "|Laurice Robertson| 53|\n",
      "|     Minh Barrett| 27|\n",
      "|   Latashia Perez| 52|\n",
      "|      Elvina Ross| 68|\n",
      "|  Augustus Snyder| 20|\n",
      "|        Elois Cox| 65|\n",
      "|    Jolanda Dixon| 14|\n",
      "|      Rutha Young| 10|\n",
      "| Waltraud Holland| 10|\n",
      "|   Colton Flowers| 77|\n",
      "|     Meri Hawkins| 43|\n",
      "|     Theola Mason| 71|\n",
      "|  Antonia Pearson| 25|\n",
      "|   Delicia Murray| 41|\n",
      "|    Cicely Harvey| 37|\n",
      "+-----------------+---+\n",
      "only showing top 20 rows\n",
      "\n"
     ]
    }
   ],
   "source": [
    "data.select(\"name\",\"age\").show()"
   ]
  },
  {
   "cell_type": "code",
   "execution_count": 10,
   "id": "d11b2a3e-45b3-4d83-b02b-11b5b7ad90ab",
   "metadata": {},
   "outputs": [
    {
     "name": "stdout",
     "output_type": "stream",
     "text": [
      "+---------------+---+\n",
      "|           name|age|\n",
      "+---------------+---+\n",
      "|    Dacia Cohen| 74|\n",
      "|    Elvina Ross| 68|\n",
      "|      Elois Cox| 65|\n",
      "| Colton Flowers| 77|\n",
      "|   Theola Mason| 71|\n",
      "| Lauryn Hubbard| 80|\n",
      "|  Verena Dennis| 80|\n",
      "|    Gaston Ford| 76|\n",
      "|    Lory Austin| 76|\n",
      "|      Otha Soto| 72|\n",
      "|  Lauryn Lawson| 66|\n",
      "|  Kristofer Roy| 74|\n",
      "|  Janee Holland| 80|\n",
      "|  Mitchell Rios| 73|\n",
      "|  Blossom Doyle| 63|\n",
      "|Doloris Pearson| 72|\n",
      "| Raleigh Hanson| 66|\n",
      "|     Enoch Beck| 75|\n",
      "|       Tai Pope| 73|\n",
      "|     Chery Dean| 79|\n",
      "+---------------+---+\n",
      "only showing top 20 rows\n",
      "\n"
     ]
    }
   ],
   "source": [
    "data.select(\"name\", \"age\").filter(data.age > 60).show()"
   ]
  },
  {
   "cell_type": "code",
   "execution_count": 12,
   "id": "4defcc3f-d809-4548-9033-6e07b715e5c3",
   "metadata": {},
   "outputs": [
    {
     "name": "stdout",
     "output_type": "stream",
     "text": [
      "+---+-----+\n",
      "|age|count|\n",
      "+---+-----+\n",
      "| 31|   16|\n",
      "| 65|   16|\n",
      "| 53|   14|\n",
      "| 78|   16|\n",
      "| 34|   15|\n",
      "| 28|   11|\n",
      "| 76|   14|\n",
      "| 27|   10|\n",
      "| 26|   15|\n",
      "| 44|   14|\n",
      "| 12|   15|\n",
      "| 22|   17|\n",
      "| 47|   17|\n",
      "| 52|   16|\n",
      "| 13|   14|\n",
      "| 16|   18|\n",
      "| 20|   12|\n",
      "| 40|   22|\n",
      "| 57|    9|\n",
      "| 54|   17|\n",
      "+---+-----+\n",
      "only showing top 20 rows\n",
      "\n"
     ]
    }
   ],
   "source": [
    "data.groupBy(\"age\").count().show()"
   ]
  },
  {
   "cell_type": "code",
   "execution_count": 14,
   "id": "9e4ed846-151a-4e62-9020-2477a099d76e",
   "metadata": {},
   "outputs": [
    {
     "name": "stdout",
     "output_type": "stream",
     "text": [
      "+-----------------+---+----------+\n",
      "|             name|age|(age - 10)|\n",
      "+-----------------+---+----------+\n",
      "|    Neville Hardy| 56|        46|\n",
      "|      Dacia Cohen| 74|        64|\n",
      "|    Kathey Daniel| 10|         0|\n",
      "|     Mallie Welch| 12|         2|\n",
      "|     Katia Bryant| 14|         4|\n",
      "|Laurice Robertson| 53|        43|\n",
      "|     Minh Barrett| 27|        17|\n",
      "|   Latashia Perez| 52|        42|\n",
      "|      Elvina Ross| 68|        58|\n",
      "|  Augustus Snyder| 20|        10|\n",
      "|        Elois Cox| 65|        55|\n",
      "|    Jolanda Dixon| 14|         4|\n",
      "|      Rutha Young| 10|         0|\n",
      "| Waltraud Holland| 10|         0|\n",
      "|   Colton Flowers| 77|        67|\n",
      "|     Meri Hawkins| 43|        33|\n",
      "|     Theola Mason| 71|        61|\n",
      "|  Antonia Pearson| 25|        15|\n",
      "|   Delicia Murray| 41|        31|\n",
      "|    Cicely Harvey| 37|        27|\n",
      "+-----------------+---+----------+\n",
      "only showing top 20 rows\n",
      "\n"
     ]
    }
   ],
   "source": [
    "data.select(data.name, data.age, data.age-10).show()"
   ]
  },
  {
   "cell_type": "code",
   "execution_count": 15,
   "id": "c4566d7d-fb99-4b3d-a416-991d1eaa2efc",
   "metadata": {},
   "outputs": [
    {
     "name": "stdout",
     "output_type": "stream",
     "text": [
      "+-----------------+----+\n",
      "|             name|age1|\n",
      "+-----------------+----+\n",
      "|    Neville Hardy|  56|\n",
      "|      Dacia Cohen|  74|\n",
      "|    Kathey Daniel|  10|\n",
      "|     Mallie Welch|  12|\n",
      "|     Katia Bryant|  14|\n",
      "|Laurice Robertson|  53|\n",
      "|     Minh Barrett|  27|\n",
      "|   Latashia Perez|  52|\n",
      "|      Elvina Ross|  68|\n",
      "|  Augustus Snyder|  20|\n",
      "|        Elois Cox|  65|\n",
      "|    Jolanda Dixon|  14|\n",
      "|      Rutha Young|  10|\n",
      "| Waltraud Holland|  10|\n",
      "|   Colton Flowers|  77|\n",
      "|     Meri Hawkins|  43|\n",
      "|     Theola Mason|  71|\n",
      "|  Antonia Pearson|  25|\n",
      "|   Delicia Murray|  41|\n",
      "|    Cicely Harvey|  37|\n",
      "+-----------------+----+\n",
      "only showing top 20 rows\n",
      "\n"
     ]
    }
   ],
   "source": [
    "data.select(data.name, col(\"age\").alias(\"age1\")).show()"
   ]
  },
  {
   "cell_type": "code",
   "execution_count": 18,
   "id": "cf661208-7527-4786-bfea-8228c0f5b01c",
   "metadata": {},
   "outputs": [
    {
     "name": "stdout",
     "output_type": "stream",
     "text": [
      "+--------------------+------------------+\n",
      "|             country|          avg(age)|\n",
      "+--------------------+------------------+\n",
      "|                Chad|             36.25|\n",
      "|            Paraguay| 47.77777777777778|\n",
      "|            Anguilla|              72.0|\n",
      "|               Macao|              72.0|\n",
      "|Heard Island and ...|              30.0|\n",
      "|             Senegal|              53.0|\n",
      "|              Sweden|45.333333333333336|\n",
      "|             Tokelau|34.166666666666664|\n",
      "|French Southern T...|50.666666666666664|\n",
      "|            Kiribati|48.666666666666664|\n",
      "|   Republic of Korea|58.166666666666664|\n",
      "|              Guyana|              39.0|\n",
      "|             Eritrea|             39.75|\n",
      "|              Jersey|              58.8|\n",
      "|         Philippines|48.333333333333336|\n",
      "|            Djibouti|              38.6|\n",
      "|               Tonga|              49.0|\n",
      "|      Norfolk Island|35.333333333333336|\n",
      "|            Malaysia|60.666666666666664|\n",
      "|           Singapore|              40.0|\n",
      "+--------------------+------------------+\n",
      "only showing top 20 rows\n",
      "\n"
     ]
    }
   ],
   "source": [
    "data.select(\"name\",\"age\",\"country\")\\\n",
    "    .groupBy(\"country\")\\\n",
    "    .avg(\"age\").show()"
   ]
  },
  {
   "cell_type": "code",
   "execution_count": 19,
   "id": "58f093a8-a4a5-4dd3-80ca-c56bf7b5c528",
   "metadata": {},
   "outputs": [
    {
     "name": "stdout",
     "output_type": "stream",
     "text": [
      "+--------------------+------------------+\n",
      "|             country|          avg(age)|\n",
      "+--------------------+------------------+\n",
      "|             Tunisia|              10.0|\n",
      "|                Iran|              14.0|\n",
      "|           Greenland|              14.5|\n",
      "|                Cuba|              15.0|\n",
      "|              Zambia|              16.0|\n",
      "|          Costa Rica|              17.0|\n",
      "|          Guadeloupe|              21.0|\n",
      "|             Ireland|              21.0|\n",
      "|            Suriname|23.333333333333332|\n",
      "|    Saint Barthelemy|              24.0|\n",
      "|              Taiwan|24.666666666666668|\n",
      "|             Namibia|              25.0|\n",
      "|             Moldova|             25.75|\n",
      "|       Faroe Islands|              26.0|\n",
      "|      Western Sahara|26.666666666666668|\n",
      "|Bouvet Island (Bo...|26.666666666666668|\n",
      "|Saint Kitts and N...|              27.0|\n",
      "|             Vietnam|             27.25|\n",
      "|   Equatorial Guinea|              27.5|\n",
      "|           Gibraltar|27.666666666666668|\n",
      "+--------------------+------------------+\n",
      "only showing top 20 rows\n",
      "\n"
     ]
    }
   ],
   "source": [
    "data.select(\"name\",\"age\",\"country\")\\\n",
    "    .groupBy(\"country\")\\\n",
    "    .avg(\"age\").sort(\"avg(age)\").show()"
   ]
  },
  {
   "cell_type": "code",
   "execution_count": 23,
   "id": "43ff3669-8c06-4339-b0e6-247370cee11f",
   "metadata": {},
   "outputs": [
    {
     "name": "stdout",
     "output_type": "stream",
     "text": [
      "+--------------------+-------+\n",
      "|             country|avg_age|\n",
      "+--------------------+-------+\n",
      "|             Tunisia|   10.0|\n",
      "|                Iran|   14.0|\n",
      "|           Greenland|   14.5|\n",
      "|                Cuba|   15.0|\n",
      "|              Zambia|   16.0|\n",
      "|          Costa Rica|   17.0|\n",
      "|          Guadeloupe|   21.0|\n",
      "|             Ireland|   21.0|\n",
      "|            Suriname|  23.33|\n",
      "|    Saint Barthelemy|   24.0|\n",
      "|              Taiwan|  24.67|\n",
      "|             Namibia|   25.0|\n",
      "|             Moldova|  25.75|\n",
      "|       Faroe Islands|   26.0|\n",
      "|      Western Sahara|  26.67|\n",
      "|Bouvet Island (Bo...|  26.67|\n",
      "|Saint Kitts and N...|   27.0|\n",
      "|             Vietnam|  27.25|\n",
      "|   Equatorial Guinea|   27.5|\n",
      "|           Gibraltar|  27.67|\n",
      "+--------------------+-------+\n",
      "only showing top 20 rows\n",
      "\n"
     ]
    }
   ],
   "source": [
    "data.select(\"name\",\"age\",\"country\")\\\n",
    "    .groupBy(\"country\")\\\n",
    "    .agg(rnd(avg(\"age\"),2).alias(\"avg_age\")).sort(\"avg_age\").show()"
   ]
  }
 ],
 "metadata": {
  "kernelspec": {
   "display_name": "Python 3 (ipykernel)",
   "language": "python",
   "name": "python3"
  },
  "language_info": {
   "codemirror_mode": {
    "name": "ipython",
    "version": 3
   },
   "file_extension": ".py",
   "mimetype": "text/x-python",
   "name": "python",
   "nbconvert_exporter": "python",
   "pygments_lexer": "ipython3",
   "version": "3.10.11"
  }
 },
 "nbformat": 4,
 "nbformat_minor": 5
}
