{
 "cells": [
  {
   "cell_type": "code",
   "execution_count": 2,
   "id": "ba850320-923b-4a6a-a9c4-db2146f10fc7",
   "metadata": {},
   "outputs": [],
   "source": [
    "from pyspark.sql import(\n",
    "    functions as f,\n",
    "    SparkSession,\n",
    "    types as t\n",
    ")"
   ]
  },
  {
   "cell_type": "code",
   "execution_count": 3,
   "id": "e3055284-6b05-4be3-9345-51e9d8e097bd",
   "metadata": {},
   "outputs": [],
   "source": [
    "spark = SparkSession.builder.appName(\"df_join\").getOrCreate()"
   ]
  },
  {
   "cell_type": "code",
   "execution_count": 4,
   "id": "e29f1ced-9d1e-4260-b425-30ea6097c5d8",
   "metadata": {},
   "outputs": [],
   "source": [
    "user_data = [\n",
    "    [\"1000\", \"Neville Hardy\", \"Apple\"],\n",
    "    [\"2000\", \"Dacia Cohen\", \"Alphabet\"],\n",
    "    [\"3000\", \"Elois Cox\", \"Neflix\"],\n",
    "    [\"4000\", \"Junita Meyer\", \"Meta\"],\n",
    "    [\"5000\", \"Cleora Banks\", \"Amazon\"]]"
   ]
  },
  {
   "cell_type": "code",
   "execution_count": 5,
   "id": "f58be25e-24f2-4b99-8f3b-2040a5a3eb29",
   "metadata": {},
   "outputs": [],
   "source": [
    "user_col = ['id', 'name', 'company']"
   ]
  },
  {
   "cell_type": "code",
   "execution_count": 6,
   "id": "c8dc2bbd-c259-4d1c-b886-d3f6b80ea914",
   "metadata": {},
   "outputs": [],
   "source": [
    "df_user = spark.createDataFrame(data=user_data, schema=user_col)"
   ]
  },
  {
   "cell_type": "code",
   "execution_count": 7,
   "id": "8f700959-9712-4ad3-bec1-a8db1d0cb326",
   "metadata": {},
   "outputs": [
    {
     "name": "stdout",
     "output_type": "stream",
     "text": [
      "+----+-------------+--------+\n",
      "|  id|         name| company|\n",
      "+----+-------------+--------+\n",
      "|1000|Neville Hardy|   Apple|\n",
      "|2000|  Dacia Cohen|Alphabet|\n",
      "|3000|    Elois Cox|  Neflix|\n",
      "|4000| Junita Meyer|    Meta|\n",
      "|5000| Cleora Banks|  Amazon|\n",
      "+----+-------------+--------+\n",
      "\n"
     ]
    }
   ],
   "source": [
    "df_user.show()"
   ]
  },
  {
   "cell_type": "code",
   "execution_count": 8,
   "id": "e109cbc1-8515-4e14-b09c-20c06b5aed2a",
   "metadata": {},
   "outputs": [],
   "source": [
    "salary_data = [\n",
    "    [\"1000\", \"150000\", \"engineer\"],\n",
    "    [\"2000\", \"240000\", \"manager\"],\n",
    "    [\"3000\", \"120000\", \"human resource\"],\n",
    "    [\"6000\", \"100000\", \"sales\"]]"
   ]
  },
  {
   "cell_type": "code",
   "execution_count": 9,
   "id": "ad1d2d6b-3cda-4247-bb45-55b31cc080e0",
   "metadata": {},
   "outputs": [],
   "source": [
    "salary_col = ['id', 'salary', 'department']"
   ]
  },
  {
   "cell_type": "code",
   "execution_count": 10,
   "id": "fcb594f3-a0e2-480a-8c77-04af83451b5a",
   "metadata": {},
   "outputs": [
    {
     "name": "stdout",
     "output_type": "stream",
     "text": [
      "+----+------+--------------+\n",
      "|  id|salary|    department|\n",
      "+----+------+--------------+\n",
      "|1000|150000|      engineer|\n",
      "|2000|240000|       manager|\n",
      "|3000|120000|human resource|\n",
      "|6000|100000|         sales|\n",
      "+----+------+--------------+\n",
      "\n"
     ]
    }
   ],
   "source": [
    "df_salary = spark.createDataFrame(data=salary_data, schema=salary_col)\n",
    "df_salary.show()"
   ]
  },
  {
   "cell_type": "code",
   "execution_count": 13,
   "id": "f5906bef-640c-4333-b31f-0ff27d356482",
   "metadata": {},
   "outputs": [
    {
     "name": "stdout",
     "output_type": "stream",
     "text": [
      "+----+-------------+--------+----+------+--------------+\n",
      "|  id|         name| company|  id|salary|    department|\n",
      "+----+-------------+--------+----+------+--------------+\n",
      "|1000|Neville Hardy|   Apple|1000|150000|      engineer|\n",
      "|2000|  Dacia Cohen|Alphabet|2000|240000|       manager|\n",
      "|3000|    Elois Cox|  Neflix|3000|120000|human resource|\n",
      "+----+-------------+--------+----+------+--------------+\n",
      "\n"
     ]
    }
   ],
   "source": [
    "##inner join\n",
    "df_user.join(df_salary,\n",
    "                df_user.id == df_salary.id,\n",
    "                \"inner\").show()"
   ]
  },
  {
   "cell_type": "code",
   "execution_count": 14,
   "id": "96ea886e-8850-443e-8a65-8cc05daaa8d9",
   "metadata": {},
   "outputs": [
    {
     "name": "stdout",
     "output_type": "stream",
     "text": [
      "+----+-------------+-------+----+------+----------+\n",
      "|  id|         name|company|  id|salary|department|\n",
      "+----+-------------+-------+----+------+----------+\n",
      "|1000|Neville Hardy|  Apple|1000|150000|  engineer|\n",
      "+----+-------------+-------+----+------+----------+\n",
      "\n"
     ]
    }
   ],
   "source": [
    "df_user.join(df_salary,\n",
    "                df_user.id == df_salary.id,\n",
    "                \"inner\").filter(df_user.id==1000).show()"
   ]
  },
  {
   "cell_type": "code",
   "execution_count": 15,
   "id": "67a08a0f-83b2-43dc-91e5-86a6d8b5ba67",
   "metadata": {},
   "outputs": [
    {
     "name": "stdout",
     "output_type": "stream",
     "text": [
      "+----+-------------+-------+----+------+----------+\n",
      "|  id|         name|company|  id|salary|department|\n",
      "+----+-------------+-------+----+------+----------+\n",
      "|1000|Neville Hardy|  Apple|1000|150000|  engineer|\n",
      "+----+-------------+-------+----+------+----------+\n",
      "\n"
     ]
    }
   ],
   "source": [
    "df_user.join(df_salary,\n",
    "                df_user.id == df_salary.id,\n",
    "                \"inner\").where(df_user.id==1000).show()"
   ]
  },
  {
   "cell_type": "code",
   "execution_count": 17,
   "id": "45acb7f8-2e66-49cd-b997-f0a4c04af25c",
   "metadata": {},
   "outputs": [
    {
     "name": "stdout",
     "output_type": "stream",
     "text": [
      "+----+-------------+-------+----+------+----------+\n",
      "|  id|         name|company|  id|salary|department|\n",
      "+----+-------------+-------+----+------+----------+\n",
      "|1000|Neville Hardy|  Apple|1000|150000|  engineer|\n",
      "+----+-------------+-------+----+------+----------+\n",
      "\n"
     ]
    }
   ],
   "source": [
    "df_user.join(df_salary,\n",
    "                (df_user.id==df_salary.id) & (df_user.id==1000),\n",
    "                ).show()"
   ]
  },
  {
   "cell_type": "code",
   "execution_count": 18,
   "id": "a7abb84a-c6a0-4fa3-853b-68f3730afd1d",
   "metadata": {},
   "outputs": [
    {
     "name": "stdout",
     "output_type": "stream",
     "text": [
      "== full outer join ==\n",
      "+----+-------------+--------+----+------+--------------+\n",
      "|  id|         name| company|  id|salary|    department|\n",
      "+----+-------------+--------+----+------+--------------+\n",
      "|1000|Neville Hardy|   Apple|1000|150000|      engineer|\n",
      "|2000|  Dacia Cohen|Alphabet|2000|240000|       manager|\n",
      "|3000|    Elois Cox|  Neflix|3000|120000|human resource|\n",
      "|4000| Junita Meyer|    Meta|null|  null|          null|\n",
      "|5000| Cleora Banks|  Amazon|null|  null|          null|\n",
      "|null|         null|    null|6000|100000|         sales|\n",
      "+----+-------------+--------+----+------+--------------+\n",
      "\n"
     ]
    }
   ],
   "source": [
    "print(\"== full outer join ==\")\n",
    "df_user.join(df_salary, \n",
    "               df_user.id == df_salary.id, \n",
    "               \"fullouter\").show()"
   ]
  },
  {
   "cell_type": "code",
   "execution_count": 19,
   "id": "c4493b73-e2a0-4bcb-97f8-799e484a1d18",
   "metadata": {},
   "outputs": [
    {
     "name": "stdout",
     "output_type": "stream",
     "text": [
      "== left join ==\n",
      "+----+-------------+--------+----+------+--------------+\n",
      "|  id|         name| company|  id|salary|    department|\n",
      "+----+-------------+--------+----+------+--------------+\n",
      "|1000|Neville Hardy|   Apple|1000|150000|      engineer|\n",
      "|2000|  Dacia Cohen|Alphabet|2000|240000|       manager|\n",
      "|3000|    Elois Cox|  Neflix|3000|120000|human resource|\n",
      "|4000| Junita Meyer|    Meta|null|  null|          null|\n",
      "|5000| Cleora Banks|  Amazon|null|  null|          null|\n",
      "+----+-------------+--------+----+------+--------------+\n",
      "\n"
     ]
    }
   ],
   "source": [
    "print(\"== left join ==\")\n",
    "df_user.join(df_salary, \n",
    "               df_user.id == df_salary.id, \n",
    "               \"left\").show()"
   ]
  },
  {
   "cell_type": "code",
   "execution_count": 20,
   "id": "5bc21add-2210-4dfd-8e41-0f499f86436a",
   "metadata": {},
   "outputs": [
    {
     "name": "stdout",
     "output_type": "stream",
     "text": [
      "== right join ==\n",
      "+----+-------------+--------+----+------+--------------+\n",
      "|  id|         name| company|  id|salary|    department|\n",
      "+----+-------------+--------+----+------+--------------+\n",
      "|1000|Neville Hardy|   Apple|1000|150000|      engineer|\n",
      "|2000|  Dacia Cohen|Alphabet|2000|240000|       manager|\n",
      "|3000|    Elois Cox|  Neflix|3000|120000|human resource|\n",
      "|null|         null|    null|6000|100000|         sales|\n",
      "+----+-------------+--------+----+------+--------------+\n",
      "\n"
     ]
    }
   ],
   "source": [
    "print(\"== right join ==\")\n",
    "df_user.join(df_salary, \n",
    "               df_user.id == df_salary.id, \n",
    "               \"right\").show()"
   ]
  },
  {
   "cell_type": "code",
   "execution_count": 21,
   "id": "544d5b2c-bf62-493a-9c36-38f863365cc4",
   "metadata": {},
   "outputs": [
    {
     "name": "stdout",
     "output_type": "stream",
     "text": [
      "== left semi join ==\n",
      "+----+-------------+--------+\n",
      "|  id|         name| company|\n",
      "+----+-------------+--------+\n",
      "|1000|Neville Hardy|   Apple|\n",
      "|2000|  Dacia Cohen|Alphabet|\n",
      "|3000|    Elois Cox|  Neflix|\n",
      "+----+-------------+--------+\n",
      "\n"
     ]
    }
   ],
   "source": [
    "print(\"== left semi join ==\")\n",
    "df_user.join(df_salary, \n",
    "               df_user.id == df_salary.id, \n",
    "               \"leftsemi\").show()"
   ]
  },
  {
   "cell_type": "code",
   "execution_count": 22,
   "id": "0e7c25df-b423-4485-87ea-ec844e01d982",
   "metadata": {},
   "outputs": [
    {
     "name": "stdout",
     "output_type": "stream",
     "text": [
      "== left anti join ==\n",
      "+----+------------+-------+\n",
      "|  id|        name|company|\n",
      "+----+------------+-------+\n",
      "|4000|Junita Meyer|   Meta|\n",
      "|5000|Cleora Banks| Amazon|\n",
      "+----+------------+-------+\n",
      "\n"
     ]
    }
   ],
   "source": [
    "print(\"== left anti join ==\")\n",
    "df_user.join(df_salary, \n",
    "               df_user.id == df_salary.id, \n",
    "               \"leftanti\").show()\n"
   ]
  },
  {
   "cell_type": "code",
   "execution_count": 23,
   "id": "b6cb9ea7-be46-4352-a3e3-72ae77ffa008",
   "metadata": {},
   "outputs": [],
   "source": [
    "df_user.createOrReplaceTempView(\"user\")\n",
    "df_salary.createOrReplaceTempView(\"salary\")"
   ]
  },
  {
   "cell_type": "code",
   "execution_count": 24,
   "id": "421a7672-d6ab-4d94-bc16-ee61f61dcfdc",
   "metadata": {},
   "outputs": [
    {
     "name": "stdout",
     "output_type": "stream",
     "text": [
      "+----+-------------+--------+----+------+--------------+\n",
      "|  id|         name| company|  id|salary|    department|\n",
      "+----+-------------+--------+----+------+--------------+\n",
      "|1000|Neville Hardy|   Apple|1000|150000|      engineer|\n",
      "|2000|  Dacia Cohen|Alphabet|2000|240000|       manager|\n",
      "|3000|    Elois Cox|  Neflix|3000|120000|human resource|\n",
      "+----+-------------+--------+----+------+--------------+\n",
      "\n"
     ]
    }
   ],
   "source": [
    "spark.sql(\"SELECT * FROM user, salary WHERE user.id == salary.id\").show()\n"
   ]
  },
  {
   "cell_type": "code",
   "execution_count": 25,
   "id": "2c35446f-36c7-43dd-b532-3c1b4ad81bc1",
   "metadata": {},
   "outputs": [
    {
     "name": "stdout",
     "output_type": "stream",
     "text": [
      "+----+-------------+--------+----+------+--------------+\n",
      "|  id|         name| company|  id|salary|    department|\n",
      "+----+-------------+--------+----+------+--------------+\n",
      "|1000|Neville Hardy|   Apple|1000|150000|      engineer|\n",
      "|2000|  Dacia Cohen|Alphabet|2000|240000|       manager|\n",
      "|3000|    Elois Cox|  Neflix|3000|120000|human resource|\n",
      "+----+-------------+--------+----+------+--------------+\n",
      "\n"
     ]
    }
   ],
   "source": [
    "spark.sql(\"SELECT * FROM user INNER JOIN salary ON user.id == salary.id\").show()"
   ]
  }
 ],
 "metadata": {
  "kernelspec": {
   "display_name": "Python 3 (ipykernel)",
   "language": "python",
   "name": "python3"
  },
  "language_info": {
   "codemirror_mode": {
    "name": "ipython",
    "version": 3
   },
   "file_extension": ".py",
   "mimetype": "text/x-python",
   "name": "python",
   "nbconvert_exporter": "python",
   "pygments_lexer": "ipython3",
   "version": "3.10.11"
  }
 },
 "nbformat": 4,
 "nbformat_minor": 5
}
