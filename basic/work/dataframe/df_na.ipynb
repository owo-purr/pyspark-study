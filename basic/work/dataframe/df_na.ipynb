{
 "cells": [
  {
   "cell_type": "code",
   "execution_count": 1,
   "id": "b7d3c2e7-a04b-463f-a229-4c0c6c2dda55",
   "metadata": {},
   "outputs": [],
   "source": [
    "from pyspark.sql import (\n",
    "    functions as f,\n",
    "    SparkSession,\n",
    "    types as t\n",
    ")"
   ]
  },
  {
   "cell_type": "code",
   "execution_count": 2,
   "id": "a8e5253f-e224-4c62-8efd-66d38baa49fb",
   "metadata": {},
   "outputs": [],
   "source": [
    "spark = SparkSession.builder.appName(\"df_missing_data\").getOrCreate()"
   ]
  },
  {
   "cell_type": "code",
   "execution_count": 3,
   "id": "eb88ac59-d685-49ad-b022-722a6ba25930",
   "metadata": {},
   "outputs": [],
   "source": [
    "df = spark.read.csv(\n",
    "    \"file:///home/jovyan/work/sample/null_data.csv\", header=True, inferSchema=True)"
   ]
  },
  {
   "cell_type": "code",
   "execution_count": 4,
   "id": "a5892161-91f0-492a-b446-0f8aed56d408",
   "metadata": {},
   "outputs": [
    {
     "name": "stdout",
     "output_type": "stream",
     "text": [
      "+----+----------+------+\n",
      "|  id|occupation|salary|\n",
      "+----+----------+------+\n",
      "|1000|  engineer|100000|\n",
      "|2000|      null|  null|\n",
      "|3000|      null| 50000|\n",
      "|4000|   teacher| 80000|\n",
      "|5000|    banker|120000|\n",
      "+----+----------+------+\n",
      "\n"
     ]
    }
   ],
   "source": [
    "df.show()"
   ]
  },
  {
   "cell_type": "code",
   "execution_count": 5,
   "id": "32ba8825-8bc5-4c09-bdd1-a8165927ef82",
   "metadata": {},
   "outputs": [
    {
     "name": "stdout",
     "output_type": "stream",
     "text": [
      "+----+----------+------+\n",
      "|  id|occupation|salary|\n",
      "+----+----------+------+\n",
      "|1000|  engineer|100000|\n",
      "|4000|   teacher| 80000|\n",
      "|5000|    banker|120000|\n",
      "+----+----------+------+\n",
      "\n"
     ]
    }
   ],
   "source": [
    "df.na.drop(how=\"any\").show()"
   ]
  },
  {
   "cell_type": "code",
   "execution_count": 7,
   "id": "8dc787ed-415d-4b82-ab11-3b0b18744c45",
   "metadata": {},
   "outputs": [
    {
     "name": "stdout",
     "output_type": "stream",
     "text": [
      "+----+----------+------+\n",
      "|  id|occupation|salary|\n",
      "+----+----------+------+\n",
      "|1000|  engineer|100000|\n",
      "|3000|      null| 50000|\n",
      "|4000|   teacher| 80000|\n",
      "|5000|    banker|120000|\n",
      "+----+----------+------+\n",
      "\n"
     ]
    }
   ],
   "source": [
    "df.na.drop(thresh=2).show()"
   ]
  },
  {
   "cell_type": "code",
   "execution_count": 9,
   "id": "9e28ed3c-c91a-4e86-be70-b8c69ce661dd",
   "metadata": {},
   "outputs": [
    {
     "name": "stdout",
     "output_type": "stream",
     "text": [
      "+----+----------+------+\n",
      "|  id|occupation|salary|\n",
      "+----+----------+------+\n",
      "|1000|  engineer|100000|\n",
      "|3000|      null| 50000|\n",
      "|4000|   teacher| 80000|\n",
      "|5000|    banker|120000|\n",
      "+----+----------+------+\n",
      "\n"
     ]
    }
   ],
   "source": [
    "df.na.drop(subset=['salary']).show()"
   ]
  },
  {
   "cell_type": "code",
   "execution_count": 10,
   "id": "bb334890-a2f3-4110-80e5-0d1a125b28f0",
   "metadata": {},
   "outputs": [
    {
     "name": "stdout",
     "output_type": "stream",
     "text": [
      "root\n",
      " |-- id: integer (nullable = true)\n",
      " |-- occupation: string (nullable = true)\n",
      " |-- salary: integer (nullable = true)\n",
      "\n"
     ]
    }
   ],
   "source": [
    "df.printSchema()"
   ]
  },
  {
   "cell_type": "code",
   "execution_count": 11,
   "id": "b03d6228-8c71-4f63-88ab-b194cae60c15",
   "metadata": {},
   "outputs": [
    {
     "name": "stdout",
     "output_type": "stream",
     "text": [
      "+----+----------+------+\n",
      "|  id|occupation|salary|\n",
      "+----+----------+------+\n",
      "|1000|  engineer|100000|\n",
      "|2000|  engineer|  null|\n",
      "|3000|  engineer| 50000|\n",
      "|4000|   teacher| 80000|\n",
      "|5000|    banker|120000|\n",
      "+----+----------+------+\n",
      "\n"
     ]
    }
   ],
   "source": [
    "df.na.fill(\"engineer\").show()"
   ]
  },
  {
   "cell_type": "code",
   "execution_count": 12,
   "id": "ee79e3d9-cb1e-4664-a855-45f11dc370a3",
   "metadata": {},
   "outputs": [
    {
     "name": "stdout",
     "output_type": "stream",
     "text": [
      "+----+----------+------+\n",
      "|  id|occupation|salary|\n",
      "+----+----------+------+\n",
      "|1000|  engineer|100000|\n",
      "|2000|      null|     0|\n",
      "|3000|      null| 50000|\n",
      "|4000|   teacher| 80000|\n",
      "|5000|    banker|120000|\n",
      "+----+----------+------+\n",
      "\n"
     ]
    }
   ],
   "source": [
    "df.na.fill(0).show()"
   ]
  },
  {
   "cell_type": "code",
   "execution_count": 13,
   "id": "69caac4b-0052-4c41-b39e-bc62bd90a6dc",
   "metadata": {},
   "outputs": [
    {
     "name": "stdout",
     "output_type": "stream",
     "text": [
      "+----+----------+------+\n",
      "|  id|occupation|salary|\n",
      "+----+----------+------+\n",
      "|1000|  engineer|100000|\n",
      "|2000|        NA|  null|\n",
      "|3000|        NA| 50000|\n",
      "|4000|   teacher| 80000|\n",
      "|5000|    banker|120000|\n",
      "+----+----------+------+\n",
      "\n"
     ]
    }
   ],
   "source": [
    "df.na.fill(\"NA\", subset=[\"occupation\"]).show()"
   ]
  },
  {
   "cell_type": "code",
   "execution_count": 23,
   "id": "da163d7d-c018-46c6-be11-bbe6551aee09",
   "metadata": {},
   "outputs": [
    {
     "name": "stdout",
     "output_type": "stream",
     "text": [
      "87500.0\n"
     ]
    }
   ],
   "source": [
    "mean_value = df.select(f.mean(df['salary'])).collect()\n",
    "print(mean_value[0][0])"
   ]
  },
  {
   "cell_type": "code",
   "execution_count": 24,
   "id": "99d5e986-efb6-4f5e-87ab-229a7735c029",
   "metadata": {},
   "outputs": [
    {
     "name": "stdout",
     "output_type": "stream",
     "text": [
      "+----+----------+------+\n",
      "|  id|occupation|salary|\n",
      "+----+----------+------+\n",
      "|1000|  engineer|100000|\n",
      "|2000|      null| 87500|\n",
      "|3000|      null| 50000|\n",
      "|4000|   teacher| 80000|\n",
      "|5000|    banker|120000|\n",
      "+----+----------+------+\n",
      "\n"
     ]
    }
   ],
   "source": [
    "df.na.fill(mean_value[0][0], subset=[\"salary\"]).show()"
   ]
  },
  {
   "cell_type": "code",
   "execution_count": 25,
   "id": "7fc6c0e6-553c-4f18-8632-0e8c97a66184",
   "metadata": {},
   "outputs": [],
   "source": [
    "spark = SparkSession.builder.appName(\"df_manage_date\").getOrCreate()\n",
    "df = spark.read.csv(\n",
    "    \"file:///home/jovyan/work/sample/date_parsing.csv\", header=True, inferSchema=True)"
   ]
  },
  {
   "cell_type": "code",
   "execution_count": 26,
   "id": "231659ab-1532-4b08-a199-a396e176cddc",
   "metadata": {},
   "outputs": [
    {
     "name": "stdout",
     "output_type": "stream",
     "text": [
      "+----------+------+\n",
      "|      date|number|\n",
      "+----------+------+\n",
      "|2022-01-27|  2723|\n",
      "|2021-12-29|  1460|\n",
      "|2022-01-22|  3411|\n",
      "|2022-01-06|  1527|\n",
      "|2022-04-21|  3978|\n",
      "|2022-10-23|  3443|\n",
      "|2021-12-23|  1641|\n",
      "|2022-05-31|  1633|\n",
      "|2021-12-29|  1072|\n",
      "|2021-12-30|  2936|\n",
      "|2022-05-04|  2494|\n",
      "|2022-06-22|  2019|\n",
      "|2022-04-23|  3804|\n",
      "|2022-08-04|  1619|\n",
      "|2022-01-26|  1306|\n",
      "|2022-09-23|  3918|\n",
      "|2022-05-27|  3209|\n",
      "|2022-09-20|  2333|\n",
      "|2022-07-05|  1861|\n",
      "|2022-07-18|  3404|\n",
      "+----------+------+\n",
      "only showing top 20 rows\n",
      "\n"
     ]
    }
   ],
   "source": [
    "df.show()"
   ]
  },
  {
   "cell_type": "code",
   "execution_count": 28,
   "id": "89570042-4573-4ddf-9cc3-0e0716d2448f",
   "metadata": {},
   "outputs": [
    {
     "name": "stdout",
     "output_type": "stream",
     "text": [
      "+----------+\n",
      "|year(date)|\n",
      "+----------+\n",
      "|      2022|\n",
      "|      2021|\n",
      "|      2022|\n",
      "|      2022|\n",
      "|      2022|\n",
      "|      2022|\n",
      "|      2021|\n",
      "|      2022|\n",
      "|      2021|\n",
      "|      2021|\n",
      "|      2022|\n",
      "|      2022|\n",
      "|      2022|\n",
      "|      2022|\n",
      "|      2022|\n",
      "|      2022|\n",
      "|      2022|\n",
      "|      2022|\n",
      "|      2022|\n",
      "|      2022|\n",
      "+----------+\n",
      "only showing top 20 rows\n",
      "\n"
     ]
    }
   ],
   "source": [
    "df.select(f.year('date')).show()"
   ]
  },
  {
   "cell_type": "code",
   "execution_count": 30,
   "id": "0606006c-7b02-4f88-88b1-fab84efb9ec9",
   "metadata": {},
   "outputs": [
    {
     "name": "stdout",
     "output_type": "stream",
     "text": [
      "+-----------+\n",
      "|month(date)|\n",
      "+-----------+\n",
      "|          1|\n",
      "|         12|\n",
      "|          1|\n",
      "|          1|\n",
      "|          4|\n",
      "|         10|\n",
      "|         12|\n",
      "|          5|\n",
      "|         12|\n",
      "|         12|\n",
      "|          5|\n",
      "|          6|\n",
      "|          4|\n",
      "|          8|\n",
      "|          1|\n",
      "|          9|\n",
      "|          5|\n",
      "|          9|\n",
      "|          7|\n",
      "|          7|\n",
      "+-----------+\n",
      "only showing top 20 rows\n",
      "\n"
     ]
    }
   ],
   "source": [
    "df.select(f.month('date')).show()"
   ]
  },
  {
   "cell_type": "code",
   "execution_count": 36,
   "id": "31b76c31-3a77-4dd4-821b-12bb5a100c7f",
   "metadata": {},
   "outputs": [
    {
     "name": "stdout",
     "output_type": "stream",
     "text": [
      "+---+\n",
      "|day|\n",
      "+---+\n",
      "| 27|\n",
      "| 29|\n",
      "| 22|\n",
      "|  6|\n",
      "| 21|\n",
      "| 23|\n",
      "| 23|\n",
      "| 31|\n",
      "| 29|\n",
      "| 30|\n",
      "|  4|\n",
      "| 22|\n",
      "| 23|\n",
      "|  4|\n",
      "| 26|\n",
      "| 23|\n",
      "| 27|\n",
      "| 20|\n",
      "|  5|\n",
      "| 18|\n",
      "+---+\n",
      "only showing top 20 rows\n",
      "\n"
     ]
    }
   ],
   "source": [
    "df.select(f.dayofmonth('date').alias('day')).show()"
   ]
  },
  {
   "cell_type": "code",
   "execution_count": 37,
   "id": "51a9a3da-a44d-42a0-ab96-252e917a876a",
   "metadata": {},
   "outputs": [
    {
     "name": "stdout",
     "output_type": "stream",
     "text": [
      "+---+\n",
      "|day|\n",
      "+---+\n",
      "| 27|\n",
      "|363|\n",
      "| 22|\n",
      "|  6|\n",
      "|111|\n",
      "|296|\n",
      "|357|\n",
      "|151|\n",
      "|363|\n",
      "|364|\n",
      "|124|\n",
      "|173|\n",
      "|113|\n",
      "|216|\n",
      "| 26|\n",
      "|266|\n",
      "|147|\n",
      "|263|\n",
      "|186|\n",
      "|199|\n",
      "+---+\n",
      "only showing top 20 rows\n",
      "\n"
     ]
    }
   ],
   "source": [
    "df.select(f.dayofyear('date').alias('day')).show()"
   ]
  },
  {
   "cell_type": "code",
   "execution_count": 38,
   "id": "1b1b5b3a-5a38-405c-87f2-38b4dbdcccd6",
   "metadata": {},
   "outputs": [
    {
     "name": "stdout",
     "output_type": "stream",
     "text": [
      "+----------+------+----+\n",
      "|      date|number|year|\n",
      "+----------+------+----+\n",
      "|2022-01-27|  2723|2022|\n",
      "|2021-12-29|  1460|2021|\n",
      "|2022-01-22|  3411|2022|\n",
      "|2022-01-06|  1527|2022|\n",
      "|2022-04-21|  3978|2022|\n",
      "|2022-10-23|  3443|2022|\n",
      "|2021-12-23|  1641|2021|\n",
      "|2022-05-31|  1633|2022|\n",
      "|2021-12-29|  1072|2021|\n",
      "|2021-12-30|  2936|2021|\n",
      "|2022-05-04|  2494|2022|\n",
      "|2022-06-22|  2019|2022|\n",
      "|2022-04-23|  3804|2022|\n",
      "|2022-08-04|  1619|2022|\n",
      "|2022-01-26|  1306|2022|\n",
      "|2022-09-23|  3918|2022|\n",
      "|2022-05-27|  3209|2022|\n",
      "|2022-09-20|  2333|2022|\n",
      "|2022-07-05|  1861|2022|\n",
      "|2022-07-18|  3404|2022|\n",
      "+----------+------+----+\n",
      "only showing top 20 rows\n",
      "\n"
     ]
    }
   ],
   "source": [
    "df.withColumn(\"year\", f.year('date')).show()"
   ]
  },
  {
   "cell_type": "code",
   "execution_count": 39,
   "id": "d28955f6-fd89-4dfe-aba7-464666a5c0d4",
   "metadata": {},
   "outputs": [
    {
     "name": "stdout",
     "output_type": "stream",
     "text": [
      "+----+------------------+\n",
      "|year|       avg(number)|\n",
      "+----+------------------+\n",
      "|2022|2540.6652806652805|\n",
      "|2021| 2195.684210526316|\n",
      "+----+------------------+\n",
      "\n"
     ]
    }
   ],
   "source": [
    "df.withColumn(\"year\", f.year('date')).groupBy(\"year\").mean(\"number\").show()"
   ]
  },
  {
   "cell_type": "code",
   "execution_count": 43,
   "id": "aae579ce-268f-41a7-9108-60802c6ad597",
   "metadata": {},
   "outputs": [],
   "source": [
    "df = df.withColumn(\"year\", f.year('date')).groupBy(\"year\")\\\n",
    "    .mean(\"number\") \\\n",
    "    .withColumnRenamed(\"avg(number)\",\"avg\")"
   ]
  },
  {
   "cell_type": "code",
   "execution_count": 44,
   "id": "77d25a03-b422-40eb-ab40-ddd38d9127b7",
   "metadata": {},
   "outputs": [
    {
     "name": "stdout",
     "output_type": "stream",
     "text": [
      "+----+------------------+\n",
      "|year|               avg|\n",
      "+----+------------------+\n",
      "|2022|2540.6652806652805|\n",
      "|2021| 2195.684210526316|\n",
      "+----+------------------+\n",
      "\n"
     ]
    }
   ],
   "source": [
    "df.show()"
   ]
  },
  {
   "cell_type": "code",
   "execution_count": 46,
   "id": "38457368-2025-496f-b24a-e4ec45f1ce13",
   "metadata": {},
   "outputs": [
    {
     "name": "stdout",
     "output_type": "stream",
     "text": [
      "+----+--------+\n",
      "|year|     avg|\n",
      "+----+--------+\n",
      "|2022|2,540.67|\n",
      "|2021|2,195.68|\n",
      "+----+--------+\n",
      "\n"
     ]
    }
   ],
   "source": [
    "df.select('year', f.format_number(\"avg\",2).alias(\"avg\")).show()"
   ]
  }
 ],
 "metadata": {
  "kernelspec": {
   "display_name": "Python 3 (ipykernel)",
   "language": "python",
   "name": "python3"
  },
  "language_info": {
   "codemirror_mode": {
    "name": "ipython",
    "version": 3
   },
   "file_extension": ".py",
   "mimetype": "text/x-python",
   "name": "python",
   "nbconvert_exporter": "python",
   "pygments_lexer": "ipython3",
   "version": "3.10.11"
  }
 },
 "nbformat": 4,
 "nbformat_minor": 5
}
