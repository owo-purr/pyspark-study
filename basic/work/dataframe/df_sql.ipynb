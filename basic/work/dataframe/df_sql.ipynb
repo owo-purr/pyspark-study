{
 "cells": [
  {
   "cell_type": "code",
   "execution_count": 1,
   "id": "eace9b99-e534-4bb7-b9ff-a268aca2ca72",
   "metadata": {},
   "outputs": [],
   "source": [
    "from pyspark.sql import (Row, SparkSession)\n",
    "from pyspark.sql.functions import col, asc, desc"
   ]
  },
  {
   "cell_type": "code",
   "execution_count": 28,
   "id": "dac2a480-e0a1-4b0e-9c36-43623084fa69",
   "metadata": {},
   "outputs": [],
   "source": [
    "def parse_line(line: str):\n",
    "    print(line)\n",
    "    fields = line.split('|')\n",
    "    print(fields[0])\n",
    "    return Row(\n",
    "        name=str(fields[0]),\n",
    "        country=str(fields[1]),\n",
    "        email=str(fields[2]),\n",
    "        compensation=int(fields[3]))"
   ]
  },
  {
   "cell_type": "code",
   "execution_count": 29,
   "id": "f8855f88-5d6e-4290-8914-9fb318e54e29",
   "metadata": {},
   "outputs": [],
   "source": [
    "spark = SparkSession.builder.appName(\"SparkSQL\").getOrCreate()\n",
    "lines = spark.sparkContext.textFile(\"file:///home/jovyan/work/sample/income.txt\")"
   ]
  },
  {
   "cell_type": "code",
   "execution_count": 30,
   "id": "da63bac2-31fd-4a63-984d-a62a2637a44c",
   "metadata": {},
   "outputs": [],
   "source": [
    "income_data = lines.map(parse_line)"
   ]
  },
  {
   "cell_type": "code",
   "execution_count": 33,
   "id": "8f10ae8f-34a0-412c-b863-bbe4aa23da0e",
   "metadata": {},
   "outputs": [
    {
     "name": "stdout",
     "output_type": "stream",
     "text": [
      "[Row(name='Kam Long', country='Dominica', email='VinThomas@example.taobao', compensation=137611)]\n"
     ]
    }
   ],
   "source": [
    "print(income_data.take(1))"
   ]
  },
  {
   "cell_type": "code",
   "execution_count": 34,
   "id": "289d3142-ea52-4288-b3fe-ec53f0cc80c9",
   "metadata": {},
   "outputs": [],
   "source": [
    "schema_income = spark.createDataFrame(data=income_data)"
   ]
  },
  {
   "cell_type": "code",
   "execution_count": 35,
   "id": "91a2ed97-1f29-49db-a93b-f8fe4cb1b068",
   "metadata": {},
   "outputs": [],
   "source": [
    "schema_income.createOrReplaceTempView(\"income\")"
   ]
  },
  {
   "cell_type": "code",
   "execution_count": 39,
   "id": "2c14dc54-91f3-46d8-bd32-3fce35da6cde",
   "metadata": {},
   "outputs": [],
   "source": [
    "medium_income_df = spark.sql(\n",
    "    \"\"\"select * from income where compensation >=70000\n",
    "and compensation <= 100000\"\"\")"
   ]
  },
  {
   "cell_type": "code",
   "execution_count": 42,
   "id": "e9beed87-b840-411b-83db-73cfedf40379",
   "metadata": {},
   "outputs": [
    {
     "name": "stdout",
     "output_type": "stream",
     "text": [
      "+------------------+--------------------+--------------------+------------+\n",
      "|              name|             country|               email|compensation|\n",
      "+------------------+--------------------+--------------------+------------+\n",
      "|  Willian Cummings|             Senegal|    areus@test.canon|       77369|\n",
      "|      Clarita Gill|             Ecuador| tomaslau@test.games|       86986|\n",
      "| Walter Washington|          Kazakhstan|mbilderbach@examp...|       91072|\n",
      "|       Lexie Banks|                Mali|unterdreht@test.date|       97933|\n",
      "|        Luise Hunt|               Kenya|adellecharles@tes...|       96175|\n",
      "|     Sebrina Walsh|         Puerto Rico|andrewcohen@examp...|       99276|\n",
      "|      Josiah Lyons|              Malawi|nandini_m@test.ry...|       91768|\n",
      "|      Temeka Grant|              Israel|terryxlife@test.g...|       71642|\n",
      "|  Narcisa Saunders|Palestinian Terri...|raquelwilson@exam...|       77287|\n",
      "|      Lisbeth Lane|          Azerbaijan|coreyweb@test.coffee|       82473|\n",
      "|       Evan Lawson|               Tonga|claudioguglieri@e...|       84796|\n",
      "|Gearldine Mcdaniel|            Slovenia|xtopherpaul@examp...|       96005|\n",
      "|   Kristel Jenkins|        Cook Islands|randomlies@exampl...|       79421|\n",
      "|   Douglass Porter|            Cambodia|ludwiczakpawel@ex...|       79263|\n",
      "|      Ahmed Warren|              Israel|brajeshwar@exampl...|       90636|\n",
      "|       Norah Reyes|   Brunei Darussalam|   soffes@example.mt|       80723|\n",
      "|      Emerita Ward|       Guinea-Bissau|nandini_m@example...|       88913|\n",
      "|   Hassan Mcdaniel|            Kiribati|  soffes@example.day|       93460|\n",
      "|   Joannie Bradley|             Bolivia|ehsandiary@test.o...|       96565|\n",
      "|     Gaylene Ellis|Palestinian Terri...|timmillwood@examp...|       95569|\n",
      "+------------------+--------------------+--------------------+------------+\n",
      "only showing top 20 rows\n",
      "\n"
     ]
    }
   ],
   "source": [
    "medium_income_df.show()"
   ]
  },
  {
   "cell_type": "code",
   "execution_count": 43,
   "id": "a4c8e20b-9ba6-4d37-a957-3de36b0028e3",
   "metadata": {},
   "outputs": [
    {
     "name": "stdout",
     "output_type": "stream",
     "text": [
      "+--------------------+-----+\n",
      "|             country|count|\n",
      "+--------------------+-----+\n",
      "|           Australia|   10|\n",
      "|           Singapore|    9|\n",
      "|             Ecuador|    9|\n",
      "|            Dominica|    9|\n",
      "|          Madagascar|    9|\n",
      "|           Nicaragua|    9|\n",
      "|              Kuwait|    9|\n",
      "|               Congo|    9|\n",
      "|            Thailand|    9|\n",
      "|             Senegal|    8|\n",
      "|Sao Tome and Prin...|    8|\n",
      "|Virgin Islands, B...|    8|\n",
      "|              Zambia|    8|\n",
      "|  Dominican Republic|    8|\n",
      "|                Mali|    8|\n",
      "|             Belgium|    7|\n",
      "|Palestinian Terri...|    7|\n",
      "|             Lesotho|    7|\n",
      "|         Isle of Man|    7|\n",
      "|             Bolivia|    7|\n",
      "+--------------------+-----+\n",
      "only showing top 20 rows\n",
      "\n"
     ]
    }
   ],
   "source": [
    "schema_income.groupBy(\"country\").count().orderBy(col(\"count\").desc()).show()"
   ]
  },
  {
   "cell_type": "code",
   "execution_count": 48,
   "id": "f03393f5-c33b-4f97-8181-ed1d60029f5b",
   "metadata": {},
   "outputs": [
    {
     "name": "stdout",
     "output_type": "stream",
     "text": [
      "+--------------------+-----+\n",
      "|             country|count|\n",
      "+--------------------+-----+\n",
      "|           Australia|   10|\n",
      "|           Singapore|    9|\n",
      "|             Ecuador|    9|\n",
      "|            Dominica|    9|\n",
      "|          Madagascar|    9|\n",
      "|           Nicaragua|    9|\n",
      "|              Kuwait|    9|\n",
      "|               Congo|    9|\n",
      "|            Thailand|    9|\n",
      "|             Senegal|    8|\n",
      "|Sao Tome and Prin...|    8|\n",
      "|Virgin Islands, B...|    8|\n",
      "|              Zambia|    8|\n",
      "|  Dominican Republic|    8|\n",
      "|                Mali|    8|\n",
      "|             Belgium|    7|\n",
      "|Palestinian Terri...|    7|\n",
      "|             Lesotho|    7|\n",
      "|         Isle of Man|    7|\n",
      "|             Bolivia|    7|\n",
      "+--------------------+-----+\n",
      "only showing top 20 rows\n",
      "\n"
     ]
    }
   ],
   "source": [
    "spark.sql(\"\"\"select country, count(*) as count from income\n",
    "group by country order by count(*) desc\"\"\").show()"
   ]
  }
 ],
 "metadata": {
  "kernelspec": {
   "display_name": "Python 3 (ipykernel)",
   "language": "python",
   "name": "python3"
  },
  "language_info": {
   "codemirror_mode": {
    "name": "ipython",
    "version": 3
   },
   "file_extension": ".py",
   "mimetype": "text/x-python",
   "name": "python",
   "nbconvert_exporter": "python",
   "pygments_lexer": "ipython3",
   "version": "3.10.11"
  }
 },
 "nbformat": 4,
 "nbformat_minor": 5
}
