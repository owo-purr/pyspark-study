{
 "cells": [
  {
   "cell_type": "code",
   "execution_count": 1,
   "id": "dea03e78-d11f-4358-a3bc-2215b1b8d43a",
   "metadata": {},
   "outputs": [],
   "source": [
    "from pyspark.sql import (\n",
    "    functions as f,\n",
    "    Row,\n",
    "    SparkSession,\n",
    "    types as t\n",
    ")"
   ]
  },
  {
   "cell_type": "code",
   "execution_count": 2,
   "id": "27d19399-d829-408a-aa8c-ec0c1bd40892",
   "metadata": {},
   "outputs": [],
   "source": [
    "spark = SparkSession.builder.appName(\"df_struct\").getOrCreate()"
   ]
  },
  {
   "cell_type": "code",
   "execution_count": 3,
   "id": "faf06c2d-193d-4a47-a0da-cee7217c1d05",
   "metadata": {},
   "outputs": [],
   "source": [
    "table_schema = t.StructType([\n",
    "    t.StructField(\"country\", t.StringType(), True),\n",
    "    t.StructField(\"temperature\", t.FloatType(), True),\n",
    "    t.StructField(\"observed_date\", t.StringType(), True)])"
   ]
  },
  {
   "cell_type": "code",
   "execution_count": 5,
   "id": "ae7fe740-bcb7-4ae3-8b35-8a36aa7d194a",
   "metadata": {},
   "outputs": [],
   "source": [
    "csv_file_path = \"file:///home/jovyan/work/sample/temp_with_date.csv\""
   ]
  },
  {
   "cell_type": "code",
   "execution_count": 6,
   "id": "0559335a-b2d4-48e5-b705-f577cfbec979",
   "metadata": {},
   "outputs": [],
   "source": [
    "df = spark.read.schema(table_schema).csv(csv_file_path)"
   ]
  },
  {
   "cell_type": "code",
   "execution_count": 9,
   "id": "bd03b6a9-3ad6-447c-9d4d-5028a1a0acde",
   "metadata": {},
   "outputs": [],
   "source": [
    "data = df.select(\"country\", \"temperature\", \"observed_date\")"
   ]
  },
  {
   "cell_type": "code",
   "execution_count": 10,
   "id": "b7f251bd-412a-45ac-9a39-6d360b536610",
   "metadata": {},
   "outputs": [],
   "source": [
    "min_temperature = data.groupBy(\"country\").min(\"temperature\")"
   ]
  },
  {
   "cell_type": "code",
   "execution_count": 12,
   "id": "d516e2db-1f82-47ba-89e4-42cc2c140f84",
   "metadata": {},
   "outputs": [
    {
     "name": "stdout",
     "output_type": "stream",
     "text": [
      "+--------------------+----------------+\n",
      "|             country|min(temperature)|\n",
      "+--------------------+----------------+\n",
      "|                Chad|           -24.0|\n",
      "|            Anguilla|           -40.0|\n",
      "|            Paraguay|            30.0|\n",
      "|               Macao|           -34.0|\n",
      "|Heard Island and ...|           -39.0|\n",
      "|               Yemen|           -33.0|\n",
      "|             Senegal|           -21.0|\n",
      "|              Sweden|           -29.0|\n",
      "|             Tokelau|           -35.0|\n",
      "|            Kiribati|           -26.0|\n",
      "|French Southern T...|           -22.0|\n",
      "|   Republic of Korea|           -18.0|\n",
      "|              Guyana|           -28.0|\n",
      "|             Eritrea|           -40.0|\n",
      "|         Philippines|           -34.0|\n",
      "|              Jersey|           -21.0|\n",
      "|      Norfolk Island|           -28.0|\n",
      "|               Tonga|           -40.0|\n",
      "|           Singapore|           -25.0|\n",
      "|            Malaysia|           -21.0|\n",
      "+--------------------+----------------+\n",
      "only showing top 20 rows\n",
      "\n"
     ]
    }
   ],
   "source": [
    "min_temperature.show()"
   ]
  },
  {
   "cell_type": "code",
   "execution_count": 16,
   "id": "96540f7a-890f-4c20-b020-82374d27c162",
   "metadata": {},
   "outputs": [],
   "source": [
    "f_temperature = data.withColumn(\n",
    "                    \"temperature\",\n",
    "                    (f.col(\"temperature\")*9/5)+32).select(\"country\", \"temperature\")"
   ]
  },
  {
   "cell_type": "code",
   "execution_count": 17,
   "id": "19702d73-2541-4029-b3f4-522191ffecf2",
   "metadata": {},
   "outputs": [
    {
     "name": "stdout",
     "output_type": "stream",
     "text": [
      "+--------------------+-------------------+\n",
      "|             country|        temperature|\n",
      "+--------------------+-------------------+\n",
      "|                Guam|              -13.0|\n",
      "|                Guam|              102.2|\n",
      "|              Serbia|              -31.0|\n",
      "|       French Guiana|               21.2|\n",
      "|Falkland Islands ...|              -40.0|\n",
      "|              Brazil|               59.0|\n",
      "|             Tunisia|-23.799999999999997|\n",
      "|            Portugal|               44.6|\n",
      "|                Iran| -7.600000000000001|\n",
      "|           Australia|               23.0|\n",
      "|              Gambia|               69.8|\n",
      "|               Italy|               87.8|\n",
      "|          Guadeloupe|              -38.2|\n",
      "|        South Africa|-11.200000000000003|\n",
      "|              Malawi|               21.2|\n",
      "|                Iran|               93.2|\n",
      "|      Norfolk Island|               23.0|\n",
      "|Lao People's Demo...|               77.0|\n",
      "|   Republic of Korea|-0.3999999999999986|\n",
      "|           Singapore|                5.0|\n",
      "+--------------------+-------------------+\n",
      "only showing top 20 rows\n",
      "\n"
     ]
    }
   ],
   "source": [
    "f_temperature.show()"
   ]
  }
 ],
 "metadata": {
  "kernelspec": {
   "display_name": "Python 3 (ipykernel)",
   "language": "python",
   "name": "python3"
  },
  "language_info": {
   "codemirror_mode": {
    "name": "ipython",
    "version": 3
   },
   "file_extension": ".py",
   "mimetype": "text/x-python",
   "name": "python",
   "nbconvert_exporter": "python",
   "pygments_lexer": "ipython3",
   "version": "3.10.11"
  }
 },
 "nbformat": 4,
 "nbformat_minor": 5
}
