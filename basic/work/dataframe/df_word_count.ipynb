{
 "cells": [
  {
   "cell_type": "code",
   "execution_count": 2,
   "id": "315e8497-2c98-47b9-a1f2-8e937a779d3a",
   "metadata": {},
   "outputs": [],
   "source": [
    "from pyspark.sql import(\n",
    "    functions,\n",
    "    Row,\n",
    "    SparkSession\n",
    ")"
   ]
  },
  {
   "cell_type": "code",
   "execution_count": 3,
   "id": "2c12b5d4-6b82-48ad-8053-72d2a67a5398",
   "metadata": {},
   "outputs": [],
   "source": [
    "spark = SparkSession.builder.appName('df_wordcount').getOrCreate()"
   ]
  },
  {
   "cell_type": "code",
   "execution_count": 4,
   "id": "6e011e0b-a9ba-4891-b95e-8de62b90d991",
   "metadata": {},
   "outputs": [],
   "source": [
    "df = spark.createDataFrame([\n",
    "        Row(a=1,\n",
    "            intlist=[1,2,3],\n",
    "            mapfield={\"a\":\"b\"}\n",
    "        )])"
   ]
  },
  {
   "cell_type": "code",
   "execution_count": 5,
   "id": "f647b6f5-64e4-4a34-90c8-d8ad07026811",
   "metadata": {},
   "outputs": [
    {
     "name": "stdout",
     "output_type": "stream",
     "text": [
      "+---+---------+--------+\n",
      "|  a|  intlist|mapfield|\n",
      "+---+---------+--------+\n",
      "|  1|[1, 2, 3]|{a -> b}|\n",
      "+---+---------+--------+\n",
      "\n"
     ]
    }
   ],
   "source": [
    "df.show()"
   ]
  },
  {
   "cell_type": "code",
   "execution_count": 12,
   "id": "4d22d062-afaf-4775-b95a-c4d29371e116",
   "metadata": {},
   "outputs": [
    {
     "name": "stdout",
     "output_type": "stream",
     "text": [
      "+-----+\n",
      "|anInt|\n",
      "+-----+\n",
      "|    1|\n",
      "|    2|\n",
      "|    3|\n",
      "+-----+\n",
      "\n"
     ]
    }
   ],
   "source": [
    "df.select(functions.explode(df.intlist).alias(\"anInt\")).show()"
   ]
  },
  {
   "cell_type": "code",
   "execution_count": 6,
   "id": "409b7bc1-e9d0-4765-8054-b79797c857fd",
   "metadata": {},
   "outputs": [
    {
     "data": {
      "text/plain": [
       "[Row(anInt=1), Row(anInt=2), Row(anInt=3)]"
      ]
     },
     "execution_count": 6,
     "metadata": {},
     "output_type": "execute_result"
    }
   ],
   "source": [
    "df.select(functions.explode(df.intlist).alias(\"anInt\")).collect()"
   ]
  },
  {
   "cell_type": "code",
   "execution_count": 13,
   "id": "6f05ebc4-bc31-42f9-aa96-6c258854809f",
   "metadata": {},
   "outputs": [],
   "source": [
    "df = spark.createDataFrame([\n",
    "    Row(word = 'hello world and pyspark')])"
   ]
  },
  {
   "cell_type": "code",
   "execution_count": 16,
   "id": "8f9201c8-76e6-48e3-b5e6-44c12c6a14f0",
   "metadata": {},
   "outputs": [
    {
     "name": "stdout",
     "output_type": "stream",
     "text": [
      "+--------------------+\n",
      "|                word|\n",
      "+--------------------+\n",
      "|[hello, world, an...|\n",
      "+--------------------+\n",
      "\n"
     ]
    }
   ],
   "source": [
    "df.select(functions.split(df.word,' ').alias(\"word\")).show()"
   ]
  },
  {
   "cell_type": "code",
   "execution_count": 17,
   "id": "65fca3bc-d8d1-48c9-a590-a6f3db24f4dd",
   "metadata": {},
   "outputs": [
    {
     "data": {
      "text/plain": [
       "[Row(word=['hello', 'world', 'and', 'pyspark'])]"
      ]
     },
     "execution_count": 17,
     "metadata": {},
     "output_type": "execute_result"
    }
   ],
   "source": [
    "df.select(functions.split(df.word,' ').alias(\"word\")).collect()"
   ]
  },
  {
   "cell_type": "code",
   "execution_count": 18,
   "id": "32c232b1-f8af-4924-9093-3350ffc4d386",
   "metadata": {},
   "outputs": [],
   "source": [
    "csv_file_path = \"file:///home/jovyan/work/sample/lorem_ipsum.txt\""
   ]
  },
  {
   "cell_type": "code",
   "execution_count": 20,
   "id": "5aaf68ae-8c28-4422-9188-617e46a5735f",
   "metadata": {},
   "outputs": [],
   "source": [
    "df = spark.read.text(csv_file_path)"
   ]
  },
  {
   "cell_type": "code",
   "execution_count": 22,
   "id": "a6f4eb1d-1459-49ad-b416-3b4aff960559",
   "metadata": {},
   "outputs": [
    {
     "name": "stdout",
     "output_type": "stream",
     "text": [
      "+--------------------+\n",
      "|               value|\n",
      "+--------------------+\n",
      "|Lorem ipsum dolor...|\n",
      "|                    |\n",
      "|Orci eu lobortis ...|\n",
      "|                    |\n",
      "|Vulputate enim nu...|\n",
      "|                    |\n",
      "|Sit amet nulla fa...|\n",
      "|                    |\n",
      "|Nibh cras pulvina...|\n",
      "|                    |\n",
      "|Arcu felis bibend...|\n",
      "|                    |\n",
      "|Vestibulum sed ar...|\n",
      "|                    |\n",
      "|Sit amet tellus c...|\n",
      "|                    |\n",
      "|Augue mauris augu...|\n",
      "|                    |\n",
      "|Pellentesque mass...|\n",
      "|                    |\n",
      "+--------------------+\n",
      "only showing top 20 rows\n",
      "\n"
     ]
    }
   ],
   "source": [
    "df.show()"
   ]
  },
  {
   "cell_type": "code",
   "execution_count": 24,
   "id": "970531e6-8961-4df8-b742-d074a898b9a5",
   "metadata": {},
   "outputs": [
    {
     "name": "stdout",
     "output_type": "stream",
     "text": [
      "+--------------------+\n",
      "|                word|\n",
      "+--------------------+\n",
      "|[Lorem, ipsum, do...|\n",
      "|                  []|\n",
      "|[Orci, eu, lobort...|\n",
      "|                  []|\n",
      "|[Vulputate, enim,...|\n",
      "|                  []|\n",
      "|[Sit, amet, nulla...|\n",
      "|                  []|\n",
      "|[Nibh, cras, pulv...|\n",
      "|                  []|\n",
      "|[Arcu, felis, bib...|\n",
      "|                  []|\n",
      "|[Vestibulum, sed,...|\n",
      "|                  []|\n",
      "|[Sit, amet, tellu...|\n",
      "|                  []|\n",
      "|[Augue, mauris, a...|\n",
      "|                  []|\n",
      "|[Pellentesque, ma...|\n",
      "|                  []|\n",
      "+--------------------+\n",
      "only showing top 20 rows\n",
      "\n"
     ]
    }
   ],
   "source": [
    "df.select(functions.split(df.value, ' ').alias(\"word\")).show()"
   ]
  },
  {
   "cell_type": "code",
   "execution_count": 28,
   "id": "94b43a23-5cd6-418e-8066-caf0ef557713",
   "metadata": {},
   "outputs": [],
   "source": [
    "word = df.select(\n",
    "    functions.explode(\n",
    "    functions.split(df.value, ' ')) \\\n",
    "    .alias(\"word\"))"
   ]
  },
  {
   "cell_type": "code",
   "execution_count": 29,
   "id": "101648e5-c2e4-418c-9dc4-cf424d4ba4df",
   "metadata": {},
   "outputs": [
    {
     "name": "stdout",
     "output_type": "stream",
     "text": [
      "+-----------+\n",
      "|       word|\n",
      "+-----------+\n",
      "|      Lorem|\n",
      "|      ipsum|\n",
      "|      dolor|\n",
      "|        sit|\n",
      "|      amet,|\n",
      "|consectetur|\n",
      "| adipiscing|\n",
      "|      elit,|\n",
      "|        sed|\n",
      "|         do|\n",
      "|    eiusmod|\n",
      "|     tempor|\n",
      "| incididunt|\n",
      "|         ut|\n",
      "|     labore|\n",
      "|         et|\n",
      "|     dolore|\n",
      "|      magna|\n",
      "|    aliqua.|\n",
      "|         Et|\n",
      "+-----------+\n",
      "only showing top 20 rows\n",
      "\n"
     ]
    }
   ],
   "source": [
    "word.show()"
   ]
  },
  {
   "cell_type": "code",
   "execution_count": 44,
   "id": "c00d8daf-88d4-4b08-9bd9-fdf22a34d767",
   "metadata": {},
   "outputs": [],
   "source": [
    "word_counts = word.groupby(\"word\").count().orderBy(functions.col(\"count\").desc())"
   ]
  },
  {
   "cell_type": "code",
   "execution_count": 45,
   "id": "5d615a1b-c759-4dd0-8f4c-42d75c160546",
   "metadata": {},
   "outputs": [
    {
     "name": "stdout",
     "output_type": "stream",
     "text": [
      "+------------+-----+\n",
      "|        word|count|\n",
      "+------------+-----+\n",
      "|         sed|  194|\n",
      "|          in|  164|\n",
      "|        amet|  149|\n",
      "|         sit|  147|\n",
      "|          ut|  140|\n",
      "|        eget|  131|\n",
      "|          id|  127|\n",
      "|          at|  120|\n",
      "|       vitae|  118|\n",
      "|          et|  117|\n",
      "|        nunc|  113|\n",
      "|          eu|  108|\n",
      "|         non|  102|\n",
      "|            |   99|\n",
      "|          ac|   97|\n",
      "|      tellus|   97|\n",
      "|        diam|   95|\n",
      "|     viverra|   95|\n",
      "|        enim|   93|\n",
      "|pellentesque|   93|\n",
      "+------------+-----+\n",
      "only showing top 20 rows\n",
      "\n"
     ]
    }
   ],
   "source": [
    "word_counts.show()"
   ]
  }
 ],
 "metadata": {
  "kernelspec": {
   "display_name": "Python 3 (ipykernel)",
   "language": "python",
   "name": "python3"
  },
  "language_info": {
   "codemirror_mode": {
    "name": "ipython",
    "version": 3
   },
   "file_extension": ".py",
   "mimetype": "text/x-python",
   "name": "python",
   "nbconvert_exporter": "python",
   "pygments_lexer": "ipython3",
   "version": "3.10.11"
  }
 },
 "nbformat": 4,
 "nbformat_minor": 5
}
