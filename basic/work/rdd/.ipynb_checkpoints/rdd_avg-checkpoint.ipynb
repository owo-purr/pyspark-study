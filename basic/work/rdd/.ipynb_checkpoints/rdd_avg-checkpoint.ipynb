{
 "cells": [
  {
   "cell_type": "code",
   "execution_count": 20,
   "id": "0f90a11b-ee4d-491f-9439-7a3032176031",
   "metadata": {},
   "outputs": [
    {
     "name": "stdout",
     "output_type": "stream",
     "text": [
      "[(10000, 3), (10000, 5), (40000, 7), (5000, 7), (4000, 2), (9000, 4), (5000, 7), (4000, 2), (8000, 9)]\n",
      "[(10000, (8, 2)), (40000, (7, 1)), (5000, (14, 2)), (4000, (4, 2)), (9000, (4, 1)), (8000, (9, 1))]\n",
      "[(10000, 4.0), (40000, 7.0), (5000, 7.0), (4000, 2.0), (9000, 4.0), (8000, 9.0)]\n"
     ]
    }
   ],
   "source": [
    "import pyspark\n",
    "\n",
    "sc = pyspark.SparkContext.getOrCreate();\n",
    "test_file = \"file:///home/jovyan/work/sample/house_price.csv\"\n",
    "\n",
    "lines = sc.textFile(test_file)\n",
    "\n",
    "def parse_line(line: str):\n",
    "    city, price, count = line.split(\",\")\n",
    "    return (int(price), int(count))\n",
    "\n",
    "price_count = lines.map(parse_line)\n",
    "print(price_count.collect())\n",
    "\n",
    "sum_of_count = price_count.mapValues(lambda count: (count, 1)) \\\n",
    "        .reduceByKey(lambda a, b: (int(a[0]) + int(b[0]), int(a[1]) + int(b[1])))\n",
    "print(sum_of_count.collect())\n",
    "avg_by_count = sum_of_count.mapValues(lambda total_count: int(total_count[0]) / total_count[1])\n",
    "results = avg_by_count.collect()\n",
    "print(results)"
   ]
  },
  {
   "cell_type": "code",
   "execution_count": 25,
   "id": "58291e40-01f8-41cc-9aea-2cd5ed43b61b",
   "metadata": {},
   "outputs": [
    {
     "data": {
      "text/plain": [
       "['\"record_id\",\"month\",\"day\",\"year\",\"AverageTemperatureFahr\",\"AverageTemperatureUncertaintyFahr\",\"City\",\"country_id\",\"Country\",\"Latitude\",\"Longitude\"',\n",
       " '474376,\"01\",\"01\",\"1853\",NA,NA,\"Auckland\",\"NEW\",\"New Zealand\",\"36.17S\",\"175.03E\"',\n",
       " '474377,\"02\",\"01\",\"1853\",NA,NA,\"Auckland\",\"NEW\",\"New Zealand\",\"36.17S\",\"175.03E\"',\n",
       " '474378,\"03\",\"01\",\"1853\",NA,NA,\"Auckland\",\"NEW\",\"New Zealand\",\"36.17S\",\"175.03E\"',\n",
       " '474379,\"04\",\"01\",\"1853\",NA,NA,\"Auckland\",\"NEW\",\"New Zealand\",\"36.17S\",\"175.03E\"']"
      ]
     },
     "execution_count": 25,
     "metadata": {},
     "output_type": "execute_result"
    }
   ],
   "source": [
    "test_file = \"file:///home/jovyan/work/sample/temperature.csv\"\n",
    "lines = sc.textFile(test_file)\n",
    "lines.collect()[:5]"
   ]
  },
  {
   "cell_type": "code",
   "execution_count": null,
   "id": "e1972d4c-5b31-478e-a1df-38cd61a8101b",
   "metadata": {},
   "outputs": [],
   "source": [
    "header = lines.first()"
   ]
  },
  {
   "cell_type": "code",
   "execution_count": 28,
   "id": "81f7ba5c-9d32-47dc-baec-bb7d670ae97f",
   "metadata": {},
   "outputs": [],
   "source": [
    "def get_data(line, header):\n",
    "    if line!= header:\n",
    "        col = line.split(\",\")\n",
    "        city = col[6].strip(\"\\\"\")\n",
    "        avg_temp_fahr = col[4]\n",
    "        yield (city, avg_temp_fahr)"
   ]
  },
  {
   "cell_type": "code",
   "execution_count": 37,
   "id": "046ddd5c-f32f-4f7a-8cc6-02f908aff618",
   "metadata": {},
   "outputs": [
    {
     "name": "stdout",
     "output_type": "stream",
     "text": [
      "[('Auckland', 'NA'), ('Auckland', 'NA'), ('Auckland', 'NA'), ('Auckland', 'NA'), ('Auckland', 'NA')]\n",
      "[('Auckland', '51.9062'), ('Auckland', '52.3886'), ('Auckland', '52.853'), ('Auckland', '52.5776'), ('Auckland', '54.8726')]\n"
     ]
    }
   ],
   "source": [
    "parsed_line = lines.flatMap(lambda line: get_data(line, header))\n",
    "print(parsed_line.collect()[:5])\n",
    "\n",
    "filtered_line = parsed_line.filter(lambda x: \"NA\" not in x[1])\n",
    "print(filtered_line.collect()[:5])"
   ]
  },
  {
   "cell_type": "code",
   "execution_count": 47,
   "id": "585be395-5cf6-41ba-a01b-bb7732425da1",
   "metadata": {},
   "outputs": [
    {
     "data": {
      "text/plain": [
       "[('Kiev', 2.85619999999999),\n",
       " ('Uppsala', 6.0494),\n",
       " ('Warsaw', 6.8),\n",
       " ('Kherson', 7.0952),\n",
       " ('Lvov', 7.1726),\n",
       " ('Wroclaw', 9.167),\n",
       " ('NA', 12.4682),\n",
       " ('Stockholm', 13.3988),\n",
       " ('Odesa', 14.8838),\n",
       " ('Paris', 25.0232),\n",
       " ('Tokyo', 29.156),\n",
       " ('Tottori', 34.2518),\n",
       " ('Marseille', 39.3908),\n",
       " ('Johannesburg', 42.1772),\n",
       " ('Hamilton', 44.564),\n",
       " ('Auckland', 49.856),\n",
       " ('Cape Town', 49.9946),\n",
       " ('Canoas', 50.009),\n",
       " ('Brasília', 62.9744)]"
      ]
     },
     "execution_count": 47,
     "metadata": {},
     "output_type": "execute_result"
    }
   ],
   "source": [
    "min_temp = filtered_line.reduceByKey(lambda x, y: min(float(x), float(y)))\n",
    "final_temp = min_temp.collect()\n",
    "# print(final_temp)\n",
    "sorted(final_temp, key = lambda x: x[1])"
   ]
  },
  {
   "cell_type": "code",
   "execution_count": 45,
   "id": "f88565ea-ad03-4d9c-98c5-501b24102b50",
   "metadata": {},
   "outputs": [
    {
     "name": "stdout",
     "output_type": "stream",
     "text": [
      "Auckland:49.856\n",
      "NA:12.4682\n",
      "Johannesburg:42.1772\n",
      "Marseille:39.3908\n",
      "Odesa:14.8838\n",
      "Tottori:34.2518\n",
      "Warsaw:6.8\n",
      "Brasília:62.9744\n",
      "Canoas:50.009\n",
      "Cape Town:49.9946\n",
      "Hamilton:44.564\n",
      "Kherson:7.0952\n",
      "Kiev:2.85619999999999\n",
      "Lvov:7.1726\n",
      "Paris:25.0232\n",
      "Stockholm:13.3988\n",
      "Tokyo:29.156\n",
      "Uppsala:6.0494\n",
      "Wroclaw:9.167\n"
     ]
    }
   ],
   "source": [
    "for city, temp in final_temp:\n",
    "    print(f\"{city}:{temp}\")"
   ]
  },
  {
   "cell_type": "code",
   "execution_count": null,
   "id": "3d28a5da-331a-4d58-bb72-b288eae189b8",
   "metadata": {},
   "outputs": [],
   "source": []
  }
 ],
 "metadata": {
  "kernelspec": {
   "display_name": "Python 3 (ipykernel)",
   "language": "python",
   "name": "python3"
  },
  "language_info": {
   "codemirror_mode": {
    "name": "ipython",
    "version": 3
   },
   "file_extension": ".py",
   "mimetype": "text/x-python",
   "name": "python",
   "nbconvert_exporter": "python",
   "pygments_lexer": "ipython3",
   "version": "3.10.11"
  }
 },
 "nbformat": 4,
 "nbformat_minor": 5
}
