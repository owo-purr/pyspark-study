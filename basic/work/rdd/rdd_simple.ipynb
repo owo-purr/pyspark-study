{
 "cells": [
  {
   "cell_type": "code",
   "execution_count": 3,
   "id": "5f01f71a-ce12-4673-ba62-b5f0d64737e8",
   "metadata": {},
   "outputs": [],
   "source": [
    "import collections\n",
    "import pyspark\n",
    "\n",
    "test_file = \"file:///home/jovyan/work/sample/word-hello.txt\"\n",
    "sc = pyspark.SparkContext.getOrCreate();"
   ]
  },
  {
   "cell_type": "code",
   "execution_count": 4,
   "id": "e612b158-f760-466b-bda5-2ab5483d682c",
   "metadata": {},
   "outputs": [
    {
     "name": "stdout",
     "output_type": "stream",
     "text": [
      "[('world', 6), ('hello', 6)]\n"
     ]
    }
   ],
   "source": [
    "text_file = sc.textFile(test_file)\n",
    "counts = text_file.flatMap(lambda line: line.split(\" \")) \\\n",
    "             .map(lambda word: (word, 1)) \\\n",
    "             .reduceByKey(lambda a, b: a + b)\n",
    "print(counts.collect())"
   ]
  },
  {
   "cell_type": "code",
   "execution_count": 6,
   "id": "0d059307-9cfd-4f5d-a36a-f481a3cc3107",
   "metadata": {},
   "outputs": [
    {
     "data": {
      "text/plain": [
       "[('hello', 1),\n",
       " ('world', 1),\n",
       " ('hello', 1),\n",
       " ('world', 1),\n",
       " ('hello', 1),\n",
       " ('world', 1),\n",
       " ('hello', 1),\n",
       " ('world', 1),\n",
       " ('hello', 1),\n",
       " ('world', 1),\n",
       " ('hello', 1),\n",
       " ('world', 1)]"
      ]
     },
     "execution_count": 6,
     "metadata": {},
     "output_type": "execute_result"
    }
   ],
   "source": [
    "counts = text_file.flatMap(lambda line: line.split(\" \"))\n",
    "pair = counts.map(lambda word: (word, 1))\n",
    "pair.collect()"
   ]
  },
  {
   "cell_type": "code",
   "execution_count": 22,
   "id": "79551fcb-8c84-4eab-91de-f640dc312d00",
   "metadata": {},
   "outputs": [],
   "source": [
    "test_file = \"file:///home/jovyan/work/sample/grade.txt\"\n",
    "sc = pyspark.SparkContext.getOrCreate();"
   ]
  },
  {
   "cell_type": "code",
   "execution_count": 30,
   "id": "4179803b-9a45-40c8-b7f5-d6833649faa8",
   "metadata": {},
   "outputs": [],
   "source": [
    "text_file = sc.textFile(test_file)\n",
    "grade = text_file.map(lambda line: line.split(\" \")[1])"
   ]
  },
  {
   "cell_type": "code",
   "execution_count": 34,
   "id": "0e007443-aafc-4646-ab6f-e7f6884ec46d",
   "metadata": {},
   "outputs": [],
   "source": [
    "grade_count = grade.countByValue()"
   ]
  },
  {
   "cell_type": "code",
   "execution_count": 35,
   "id": "9564686f-589e-44f2-baec-4c2e28dbe321",
   "metadata": {},
   "outputs": [
    {
     "name": "stdout",
     "output_type": "stream",
     "text": [
      "90:2\n",
      "70:1\n",
      "80:1\n",
      "100:1\n"
     ]
    }
   ],
   "source": [
    "for grade, count in sorted(grade_count.items(),\n",
    "                           key = lambda item: item[1],\n",
    "                           reverse = True):\n",
    "    print(f\"{grade}:{count}\")"
   ]
  }
 ],
 "metadata": {
  "kernelspec": {
   "display_name": "Python 3 (ipykernel)",
   "language": "python",
   "name": "python3"
  },
  "language_info": {
   "codemirror_mode": {
    "name": "ipython",
    "version": 3
   },
   "file_extension": ".py",
   "mimetype": "text/x-python",
   "name": "python",
   "nbconvert_exporter": "python",
   "pygments_lexer": "ipython3",
   "version": "3.10.11"
  }
 },
 "nbformat": 4,
 "nbformat_minor": 5
}
